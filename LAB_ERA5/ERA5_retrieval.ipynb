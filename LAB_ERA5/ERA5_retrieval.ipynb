{
 "cells": [
  {
   "cell_type": "markdown",
   "metadata": {},
   "source": [
    "ERA5 retrievals\n",
    "\n",
    "The first part of the \n",
    "\n",
    "Step 1: register at <a href=\"cds.climate.copernicus.eu\">CDS</a>\n",
    "\n",
    "Step 2: Install the package on your computer using the command "
   ]
  },
  {
   "cell_type": "code",
   "execution_count": 1,
   "metadata": {},
   "outputs": [
    {
     "name": "stdout",
     "output_type": "stream",
     "text": [
      "Collecting cdsapi\n",
      "  Downloading https://files.pythonhosted.org/packages/e7/7c/3c5683c4c8dd89d79f87e05fc34c618b4c234c071bd111a8796a810b37cc/cdsapi-0.2.5.tar.gz\n",
      "Collecting requests>=2.5.0 (from cdsapi)\n",
      "  Downloading https://files.pythonhosted.org/packages/1a/70/1935c770cb3be6e3a8b78ced23d7e0f3b187f5cbfab4749523ed65d7c9b1/requests-2.23.0-py2.py3-none-any.whl (58kB)\n",
      "\u001b[K    100% |████████████████████████████████| 61kB 207kB/s ta 0:00:011\n",
      "\u001b[?25hCollecting tqdm (from cdsapi)\n",
      "  Downloading https://files.pythonhosted.org/packages/47/55/fd9170ba08a1a64a18a7f8a18f088037316f2a41be04d2fe6ece5a653e8f/tqdm-4.43.0-py2.py3-none-any.whl (59kB)\n",
      "\u001b[K    100% |████████████████████████████████| 61kB 1.1MB/s eta 0:00:01\n",
      "\u001b[?25hCollecting urllib3!=1.25.0,!=1.25.1,<1.26,>=1.21.1 (from requests>=2.5.0->cdsapi)\n",
      "  Downloading https://files.pythonhosted.org/packages/e8/74/6e4f91745020f967d09332bb2b8b9b10090957334692eb88ea4afe91b77f/urllib3-1.25.8-py2.py3-none-any.whl (125kB)\n",
      "\u001b[K    100% |████████████████████████████████| 133kB 455kB/s eta 0:00:01\n",
      "\u001b[?25hCollecting certifi>=2017.4.17 (from requests>=2.5.0->cdsapi)\n",
      "  Downloading https://files.pythonhosted.org/packages/b9/63/df50cac98ea0d5b006c55a399c3bf1db9da7b5a24de7890bc9cfd5dd9e99/certifi-2019.11.28-py2.py3-none-any.whl (156kB)\n",
      "\u001b[K    100% |████████████████████████████████| 163kB 384kB/s eta 0:00:01\n",
      "\u001b[?25hCollecting idna<3,>=2.5 (from requests>=2.5.0->cdsapi)\n",
      "  Downloading https://files.pythonhosted.org/packages/89/e3/afebe61c546d18fb1709a61bee788254b40e736cff7271c7de5de2dc4128/idna-2.9-py2.py3-none-any.whl (58kB)\n",
      "\u001b[K    100% |████████████████████████████████| 61kB 366kB/s eta 0:00:01\n",
      "\u001b[?25hCollecting chardet<4,>=3.0.2 (from requests>=2.5.0->cdsapi)\n",
      "  Using cached https://files.pythonhosted.org/packages/bc/a9/01ffebfb562e4274b6487b4bb1ddec7ca55ec7510b22e4c51f14098443b8/chardet-3.0.4-py2.py3-none-any.whl\n",
      "Building wheels for collected packages: cdsapi\n",
      "  Running setup.py bdist_wheel for cdsapi ... \u001b[?25ldone\n",
      "\u001b[?25h  Stored in directory: /afs/ictp/home/t/tompkins/.cache/pip/wheels/05/05/84/683704f72cf47dc2cd6b7797b7a92942dc9dc96d5662b6c1ca\n",
      "Successfully built cdsapi\n",
      "Installing collected packages: urllib3, certifi, idna, chardet, requests, tqdm, cdsapi\n",
      "Successfully installed cdsapi-0.2.5 certifi-2019.11.28 chardet-3.0.4 idna-2.9 requests-2.23.0 tqdm-4.43.0 urllib3-1.25.8\n"
     ]
    }
   ],
   "source": [
    "pip3 install cdsapi"
   ]
  },
  {
   "cell_type": "code",
   "execution_count": null,
   "metadata": {},
   "outputs": [
    {
     "name": "stderr",
     "output_type": "stream",
     "text": [
      "2020-02-20 15:57:59,722 INFO Sending request to https://cds.climate.copernicus.eu/api/v2/resources/reanalysis-era5-single-levels-monthly-means\n",
      "2020-02-20 15:58:00,604 INFO Request is queued\n",
      "2020-02-20 15:58:01,654 INFO Request is running\n",
      "2020-02-20 15:58:05,509 INFO Request is completed\n",
      "2020-02-20 15:58:05,509 INFO Downloading http://136.156.133.42/cache-compute-0014/cache/data4/adaptor.mars.internal-1582210680.9985754-15133-27-6932a2b4-fdb7-49af-ae4f-d7beb64b5758.nc to download.nc (4M)\n"
     ]
    }
   ],
   "source": [
    "import cdsapi\n",
    "\n",
    "c = cdsapi.Client()\n",
    "c.retrieve(\n",
    "    'reanalysis-era5-single-levels-monthly-means',\n",
    "    {\n",
    "        'format': 'netcdf',\n",
    "        'product_type': 'monthly_averaged_reanalysis',\n",
    "        'variable': '2m_temperature',\n",
    "        'year': [\n",
    "            '2016', '2019',\n",
    "        ],\n",
    "        'month': '01',\n",
    "        'time': '00:00',\n",
    "    },\n",
    "    'download.nc')\n"
   ]
  },
  {
   "cell_type": "code",
   "execution_count": null,
   "metadata": {},
   "outputs": [],
   "source": []
  }
 ],
 "metadata": {
  "kernelspec": {
   "display_name": "Bash",
   "language": "bash",
   "name": "bash"
  },
  "language_info": {
   "codemirror_mode": "shell",
   "file_extension": ".sh",
   "mimetype": "text/x-sh",
   "name": "bash"
  }
 },
 "nbformat": 4,
 "nbformat_minor": 2
}
