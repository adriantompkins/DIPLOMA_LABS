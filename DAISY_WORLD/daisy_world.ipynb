{
 "cells": [
  {
   "cell_type": "markdown",
   "metadata": {},
   "source": [
    "![Daisy world](https://personal.ems.psu.edu/~dmb53/Earth_System_Models/Daisyworld_files/Daisyworld_pict.jpg)\n",
    "Acknowledgements:\n",
    "Daisyworld image from PSU, David Bice.\n",
    "Code was originally based on a python script by Andrew Bennett\n"
   ]
  },
  {
   "cell_type": "markdown",
   "metadata": {},
   "source": [
    "Daisy world is a toy model of the planet designed to show how negative feedbacks with the biosphere can lead to a stable planet temperature over a wide range of solar luminosities. It was introduced by Watson and Lovelock (1983, Tellus B: Chemical and Physical Meteorology 35.4 (1983): 284-289., hereafter WL83) as an example of the Gaia theory, which proposed a solution to the weak young sun paradox. You are also referred to the excellent review paper, Wood et al. (2008), Rev. Geophys.,46, RG1001, doi:10.1029/2006RG000217, referred to W08 hereafter.\n",
    "\n",
    "In the early stage of the planet, when life had already established, the sun was about 30\\% weaker than today, and yet mean temperatures must have remained within the rough range of 0-40C which allow life to persist. The Gaia theory proposed a negative, \"stabilizing feedback\", whereby the presence of life reduces temperature variability, thus permitted the continued presence of life.\n",
    "\n",
    "In response to criticism to the theory, WL83 introduced daisy world. Quite simply, a planet is occupied by two species of daisy with different albedos (see figure above), but the same temperature response function where growth is maximized at a certain temperature (22.5C in the paper).  Black daisies are warmer than white due to their lower albedo. \n",
    "\n",
    "The model is simple, consisting of two ODEs that describe the evolution of the black and white daisies as a function of the temperature and three diagnostic equations that describe mean albedo of the planet, the resulting mean temperature assuming energy balance, and the local temperatures of the daisy patches, which are a function of the flower albedo.\n",
    "\n",
    "Before we start we need to import the modules we will need for the code, numpy and matplotlib for the graphics, and we define a few constants."
   ]
  },
  {
   "cell_type": "code",
   "execution_count": 2,
   "metadata": {},
   "outputs": [],
   "source": [
    "import numpy as np\n",
    "import matplotlib.pyplot as plt \n",
    "\n",
    "keloff=273.15 # to convert between K and deg C \n",
    "sigma=5.67e-8 # S-B constant\n",
    "S0=1000 # solar constant W/m**2\n",
    "transport=20  # q' in equation 7 of WL83, lineared diffusion heat transport - this relates local albedo perturbations to temperature perturbations\n",
    "maxloop=100 # number of iterations to allow daisies to equilibrate.\n",
    "luminosity=np.arange(0.5,1.5,0.01) # range of luminosities over which we will loop, starting from low to high"
   ]
  },
  {
   "cell_type": "markdown",
   "metadata": {},
   "source": [
    "We now define the plant grown temperature response function.  This is a quadratic curve that peaks at T=22.5C (you may change this value).  \n",
    "\n",
    "Equation 3 of WL83:\n",
    "\\begin{equation}\n",
    "\\beta=1-0.003265(22.5-T)^2\n",
    "\\end{equation}\n",
    "\n",
    "The max function ensures positive-definite growth rates, setting the growth rate to zero below about 5C and above 40C."
   ]
  },
  {
   "cell_type": "code",
   "execution_count": 3,
   "metadata": {},
   "outputs": [],
   "source": [
    "Td_ideal=22.5+keloff  # peak growth rate for daisies\n",
    "birth_rate_k=0.003265 #\n",
    "death_rate=0.3 # fixed death rate gamma in equation 1\n",
    "def birth_rate(T):\n",
    "    \"\"\"function to calculate birth rate\"\"\"\n",
    "    return max(1.0-birth_rate_k*(Td_ideal-T)**2,0.0)"
   ]
  },
  {
   "cell_type": "markdown",
   "metadata": {},
   "source": [
    "We now introduce some other parameters in the model, the white daisy (dw) and black daisy (db) and bare soil (bs) albedoes: \n",
    "\n"
   ]
  },
  {
   "cell_type": "code",
   "execution_count": 4,
   "metadata": {},
   "outputs": [],
   "source": [
    "alb_dw=0.75 # white daisies albedo \n",
    "alb_db=0.25 # black daisies\n",
    "alb_bs=0.5  # bare soil "
   ]
  },
  {
   "cell_type": "markdown",
   "metadata": {},
   "source": [
    "We perform the main loop over normalized luminosity values (so L=1 implies present day solar constant), and for each luminosity find the stable solution of daisy area and temperature.\n",
    "\n",
    "The equations we solve in turn are:\n",
    "\n",
    "Equation 5 of WL83, this simply states that the mean planetary albedo is an area-weighted average of the daisies and bare soil values. \n",
    "\n",
    "\\begin{equation}\n",
    "A_p=A_{dw}\\alpha_{dw}+A_{db}\\alpha_{db}+A_{bs}\\alpha_{bs}\n",
    "\\end{equation}\n",
    "\n",
    "where $\\alpha$ is the fractional coverage of the white daisies (dw), black daises (db) or bare soil (bs) and $A$ is the respective albedo of each land cover type.  (NOTE: We use this notation to follow WL83 and W08, but do not get confused as we usually use $\\alpha$ for albedo in the course).\n"
   ]
  },
  {
   "cell_type": "markdown",
   "metadata": {},
   "source": [
    "We then calculate the planet mean temperature, which is a simple energy balance equation between incoming solar and emitted infrared radiation (Equation 4 of WL83):\n",
    "\\begin{equation}\n",
    "T_e=\\sqrt[4]{\\frac{LS_0(1-A)}{\\sigma}}\n",
    "\\end{equation}\n",
    "\n"
   ]
  },
  {
   "cell_type": "markdown",
   "metadata": {},
   "source": [
    "The next step is to calculate the local temperature resulting from the presence of the daisies.  In WL83 this is not explained in much detail, and we thus refer to the excellent description of W08: The local temperatures $T_{dw}$ and $T_{db}$ and the bare soil temperature $T_{bs}$ are defined by making a simplifying assumption about the heat transfer, essentially a linearization of adiffusion term (refer to the 1D zonal model for ice albedo feedback). This gives a degree of connectedness to the daisy patches without introducing space explicitly. A parameter $q$ is defined as the heat transfer coefficient in WL83, thereby defining the local temperatures as (equation 7 of WL83 or 5-7 in W08):\n",
    "\n",
    "\\begin{equation}\n",
    "T_{dw}=q(A-A_{dw})+T_e\n",
    "\\end{equation}\n",
    "and similarly for the black daisies. \n",
    "\n"
   ]
  },
  {
   "cell_type": "markdown",
   "metadata": {},
   "source": [
    "Now we only have to define the two key equations, which describe the birthrate of each daisy type which is a function of their optimum temperatures, using the birthrate function defined above.  Each daisies has a constant death rate $\\gamma$, converting daisy coverage back to bare soil. These equations are standard for population dynamics, disease models etc.  These are eqn. 1 in WL83 or eqn 2 in W08:\n",
    "\n",
    "\\begin{equation}\n",
    "\\frac {\\partial \\alpha_{dw}}{\\partial t}=\\alpha_{dw}(\\alpha_{bs}\\beta(T_{dw})-\\gamma)\n",
    "\\end{equation}\n",
    "\n",
    "\\begin{equation}\n",
    "\\frac {\\partial \\alpha_{db}}{\\partial t}=\\alpha_{db}(\\alpha_{bs}\\beta(T_{db})-\\gamma)\n",
    "\\end{equation}\n",
    "\n",
    "In the code below we note that this is NOT a good solution method as the system is coupled and the intergration method is explicit, but it simple to understand and will do for present purposes.  If you have finished the ICTP diploma course in numerical methods I/II you may like to develop this by implementing a Runge-Kutta 4th order solver. "
   ]
  },
  {
   "cell_type": "code",
   "execution_count": 9,
   "metadata": {},
   "outputs": [
    {
     "name": "stdout",
     "output_type": "stream",
     "text": [
      "[257.6850585646485, 258.96393187774186, 260.2241342082808, 261.46628947398807, 262.69098944241586, 263.8987959485834, 265.0902429223502, 266.2658382449336, 267.42606545169934, 268.57138529636995, 269.70223719007373, 270.8190405271577, 271.92219590837465, 273.0120862709067, 274.08907793367985, 275.15352156553683, 276.20575308305445, 277.24609448410143, 278.2748546226214, 279.29232992958464, 280.29880508457154, 281.2945536420206, 282.27983861579554, 283.25491302538177, 284.2200204067206, 285.175395290415, 286.1212636497965, 287.0578433211224, 287.98534439797436, 288.9039696017523, 289.8139146299943, 290.71536848410966, 291.6085137779801, 292.49352702876376, 293.37057893113115, 294.23983461606053, 295.1014538952336, 295.9555914919905, 296.8023972597279, 297.64201638855786, 298.4745896009823, 299.3002533372828, 300.119139931272, 300.931377777007, 301.7370914870221, 302.53640204259614, 303.32942693653587, 304.11628030892183, 304.8970730762315, 305.6719130542278, 306.4409050749729, 307.2041510983049, 307.9617503180906, 308.7137992635474, 309.46039189591056, 310.2016197006999, 310.93757177582773, 311.668334915772, 312.3939936920256, 313.1146305300199, 313.8303257827067, 314.54115780097413, 315.2472030010586, 315.948535929108, 316.6452293230387, 317.33735417182453, 318.02497977234424, 318.70817378390853, 319.38700228058036, 320.061529801396, 320.7318193985872, 321.39793268390105, 322.0599298731063, 322.7178698287727, 323.371810101403, 324.02180696899404, 324.667915475099, 325.3101894654587, 325.94868162326736, 326.5834435031331, 327.214525563791, 327.8419771996259, 328.4658467710532, 329.0861816338113, 329.70302816721016, 330.31643180138076, 330.92643704356925, 331.5330875035147, 332.1364259179495, 332.73649417425884, 333.33333333333337, 333.9269836516492, 334.5174846026055, 335.1048748971505, 335.689192503724, 336.2704746675435, 336.84875792926096, 337.42407814301316, 337.99647049389074, 338.565969514848]\n"
     ]
    }
   ],
   "source": [
    "# store arrays \n",
    "area_dw_v=[]\n",
    "area_db_v=[]\n",
    "area_bs_v=[]\n",
    "T_p_v=[]\n",
    "T_ref=[]\n",
    "\n",
    "area_dw=area_db=0.01 # initial conditions\n",
    "\n",
    "# loop over luminosity...\n",
    "for iflux,flux in enumerate(luminosity):\n",
    "    # initial conditions are taken from a previous run, subject to \n",
    "    # a minimum of 1% in case the species had died out \n",
    "    area_dw=max(area_dw,0.01)   # white daisies can't die out\n",
    "    area_db=max(area_db,0.01)   # black daises neither  \n",
    "    area_bs=1.0-area_dw-area_db # bare soil fraction\n",
    "    it=0\n",
    "    while it<maxloop:  # can put tolerance to exit earlier if converged...\n",
    "        it+=1\n",
    "        \n",
    "        # EQN 5: calculate weighted average albedo\n",
    "        alb_p=area_dw*alb_dw+area_db*alb_db+area_bs*alb_bs\n",
    "        \n",
    "        # EQN 4: calculate planet mean temperature\n",
    "        T_p=np.power(flux*S0*(1-alb_p)/sigma,0.25)\n",
    "        \n",
    "        # EQN 7: calculate local temperatures\n",
    "        T_db=transport*(alb_p-alb_db)+T_p\n",
    "        T_dw=transport*(alb_p-alb_dw)+T_p\n",
    "       \n",
    "        # EQN 3: calculate birth rate beta\n",
    "        birth_rate_db=birth_rate(T_db)\n",
    "        birth_rate_dw=birth_rate(T_dw)\n",
    "        \n",
    "        # EQN 1: change in daisy area\n",
    "        area_db+=area_db*(birth_rate_db*area_bs-death_rate)\n",
    "        area_dw+=area_dw*(birth_rate_dw*area_bs-death_rate)\n",
    "        \n",
    "        # update areas\n",
    "        area_bs=1.0-area_db-area_dw\n",
    "\n",
    "    # store the value...\n",
    "    area_db_v.append(area_db)\n",
    "    area_dw_v.append(area_dw)\n",
    "    area_bs_v.append(area_bs)\n",
    "    T_p_v.append(T_p)\n",
    "    T_ref.append(np.power(flux*S0*(1-alb_bs)/sigma,0.25))\n",
    "    \n",
    "print (T_ref)"
   ]
  },
  {
   "cell_type": "markdown",
   "metadata": {},
   "source": [
    "Now we just need to plot the results:"
   ]
  },
  {
   "cell_type": "code",
   "execution_count": 11,
   "metadata": {
    "scrolled": true
   },
   "outputs": [
    {
     "data": {
      "text/plain": [
       "<matplotlib.legend.Legend at 0x118e73bd0>"
      ]
     },
     "execution_count": 11,
     "metadata": {},
     "output_type": "execute_result"
    },
    {
     "data": {
      "image/png": "[encoded data removed]",
      "text/plain": [
       "<Figure size 432x288 with 2 Axes>"
      ]
     },
     "metadata": {
      "needs_background": "light"
     },
     "output_type": "display_data"
    }
   ],
   "source": [
    "fig,ax=plt.subplots(2,1)\n",
    "ax[0].plot(luminosity,area_db_v,color='black',label='black')\n",
    "ax[0].plot(luminosity,area_dw_v,color='red',label='white')\n",
    "ax[0].set_xlabel('solar luminosity')\n",
    "ax[0].set_ylabel('Area')\n",
    "ax[0].legend(loc=\"best\")\n",
    "\n",
    "ax[1].plot(luminosity,np.array(T_p_v)-keloff,color=\"black\",label=\"Daisy World :-)\")\n",
    "ax[1].plot(luminosity,np.array(T_ref)-keloff,color=\"red\",label=\"Bare Soil World :-(\")\n",
    "ax[1].set_xlabel('solar luminosity')\n",
    "ax[1].set_ylabel('Global Temperature (C)')\n",
    "ax[1].legend()\n"
   ]
  },
  {
   "cell_type": "markdown",
   "metadata": {},
   "source": [
    "We see the very interesting behaviour of daisy world.  Once the black daisies are established, they locally increase the temperature, and as the luminosity increases in also allows white daisies to be established. Increases in luminosity in turn increase the proportion of white daisies, which reduce the local temperature due to the higher albedo (note, higher than bare soil).  The key take home of WL83 was that, relative to bare soil world (red line) the temperature is very stable.  In fact you will see when you carry out some of the exercises below that the two daisies type are actually mutually beneficial in the standard set up of these model, that is \"cooperative\", and can coexist across a far wider range of luminosity than is the case when a single species exists.  This perhaps has important implications for the importance of biodiversity on our planet! "
   ]
  },
  {
   "cell_type": "markdown",
   "metadata": {},
   "source": [
    "Questions to investigate\n",
    "\n",
    "1. What happens if you change the albedo values of the black and/or white daisies?  Try altering the albedos but keeping $A_{db} < A_{bs} < A_{dw}$.  But then also try $A_{db} < A_{dw} < A_{bs}$ or $A_{bs} < A_{db} < A_{dw}$.\n",
    "\n",
    "2. Try to tinker with the daisy-dependent death rates?\n",
    "\n",
    "2. What happens if, after arriving at a luminosity $L$ of 1.6 you turn the sun back down again?  (i.e. reverse the luminosity loop). Do the solution branches follow each other exactly, or is there a hysteresis? Why?\n",
    "\n",
    "3. What happens if for each value of luminosity you start from a near bare earth? (1% coverage for each daisy type)  At which values of luminosity does the population crash occur?\n",
    "\n",
    "4. What happens if you only allow one daisy type? \n",
    "\n",
    "5. What happens if you introduce 3 daisy types?  \n",
    "\n",
    "6. Watson and Lovelock introduce another experiment in which black daisies are warmer, but they cool the planet by introducing clouds.  This experiment can be conducted by assuming that the TOA albedo for black daisy areas is 0.8, the daises are still warmer than white daisies due to their lower albedo (not very physical!) - See if you can reproduce fig 2 of Watson and Lovelock with this experiment.  What happens to the white daisies?\n",
    "\n",
    "Have fun and above all, never stop asking yourself \"what if?\"\n"
   ]
  },
  {
   "cell_type": "code",
   "execution_count": null,
   "metadata": {},
   "outputs": [],
   "source": []
  }
 ],
 "metadata": {
  "kernelspec": {
   "display_name": "Python 3",
   "language": "python",
   "name": "python3"
  },
  "language_info": {
   "codemirror_mode": {
    "name": "ipython",
    "version": 3
   },
   "file_extension": ".py",
   "mimetype": "text/x-python",
   "name": "python",
   "nbconvert_exporter": "python",
   "pygments_lexer": "ipython3",
   "version": "3.7.7"
  }
 },
 "nbformat": 4,
 "nbformat_minor": 2
}
