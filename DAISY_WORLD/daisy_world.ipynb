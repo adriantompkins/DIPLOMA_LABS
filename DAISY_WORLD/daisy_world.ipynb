{
 "cells": [
  {
   "cell_type": "markdown",
   "metadata": {},
   "source": [
    "![Daisy world](https://personal.ems.psu.edu/~dmb53/Earth_System_Models/Daisyworld_files/Daisyworld_pict.jpg)\n",
    "Acknowledgements:\n",
    "Daisyworld image from PSU, David Bice.\n",
    "Code was originally based on a python script by Andrew Bennett\n"
   ]
  },
  {
   "cell_type": "markdown",
   "metadata": {},
   "source": [
    "Daisy world is a toy model of the planet designed to show how negative feedbacks with the biosphere can lead to a stable planet temperature over a wide range of solar luminosities. It was introduced by Watson and Lovelock(1982, Tellus B) as an example of the Gaia theory, which proposed a solution to the weak young sun paradox. In the early stage of the planet, when life had already established, the sun was about 30\\% weaker than today, and yet mean temperatures must have remained within the rough range of 0-40C which allow life to persist. The Gaia theory proposed a negative, \"stabilizing feedback\", whereby the presence of life reduces temperature variability, thus permitted the continued presence of life.\n",
    "\n",
    "In response to criticism to the theory, Watson and Lovelock (hereafter WL82) introduced daisy world. Quite simply, a planet is occupied by two species of daisy with different albedos (see figure above), but the same temperature response function where growth is maximized at a certain temperature (22.5C in the paper).  Black daisies are warmer than white due to their lower albedo. \n",
    "\n",
    "The model is simple, consisting of two ODEs that describe the evolution of the black and white daisies as a function of the temperature and three diagnostic equations that describe mean albedo of the planet, the resulting mean temperature assuming energy balance, and the local temperatures of the daisy patches, which are a function of the flower albedo.\n",
    "\n",
    "Before we start we need to import the modules we will need for the code, numpy and matplotlib for the graphics, and we define a few constants."
   ]
  },
  {
   "cell_type": "code",
   "execution_count": 1,
   "metadata": {},
   "outputs": [],
   "source": [
    "import numpy as np\n",
    "import matplotlib.pyplot as plt \n",
    "\n",
    "keloff=273.15 # to convert between K and deg C \n",
    "sigma=5.67e-8 # S-B constant\n",
    "S0=1000 # solar constant W/m**2\n",
    "insul=20  # q' in equation 7 of WL82, this relates local albedo perturbations to temperature perturbations\n",
    "maxloop=100 # number of iterations to allow daisies to equilibrate.\n",
    "luminosity=np.arange(0.5,1.5,0.01) # range of luminosities over which we will loop, starting from low to high"
   ]
  },
  {
   "cell_type": "markdown",
   "metadata": {},
   "source": [
    "We now define the plant grown temperature response function.  This is a quadratic curve that peaks at T=22.5C (you may change this value).  \n",
    "\n",
    "Equation 3 of WL82:\n",
    "\\begin{equation}\n",
    "\\beta=1-0.003265(22.5-T)^2\n",
    "\\end{equation}\n",
    "\n",
    "The max function ensures positive-definite growth rates, setting the growth rate to zero below about 5C and above 40C."
   ]
  },
  {
   "cell_type": "code",
   "execution_count": null,
   "metadata": {},
   "outputs": [],
   "source": [
    "Td_ideal=22.5+keloff  # peak growth rate for daisies\n",
    "birth_rate_k=0.003265 #\n",
    "death_rate=0.3 # fixed death rate gamma in equation 1\n",
    "def birth_rate(T):\n",
    "    \"\"\"function to calculate birth rate\"\"\"\n",
    "    return max(1.0-birth_rate_k*(Td_ideal-T)**2,0.0)"
   ]
  },
  {
   "cell_type": "markdown",
   "metadata": {},
   "source": [
    "We now introduce some other parameters in the model, the white daisy (dw) and black daisy (db) and bare soil (bs) albedoes: \n",
    "\n"
   ]
  },
  {
   "cell_type": "code",
   "execution_count": 2,
   "metadata": {},
   "outputs": [],
   "source": [
    "alb_dw=0.75 # white daisies albedo \n",
    "alb_db=0.25 # black daisies\n",
    "alb_bs=0.5  # bare soil "
   ]
  },
  {
   "cell_type": "markdown",
   "metadata": {},
   "source": [
    "We now perform the main loop over luminosity, and for each luminosity find the stable solution of daisy area and temperature.\n",
    "\n",
    "The equations in turn are:\n",
    "\n",
    "Equation 5 of WL82, this simply states that the mean planetary albedo is an area-weighted average of the daisies and bare soil values. \n",
    "\n",
    "\\begin{equation}\n",
    "\\alpha_p=A_{dw}\\alpha_{dw}+A_{db}\\alpha_{db}+A_{bs}\\alpha_{bs}\n",
    "\\end{equation}\n",
    "\n",
    "We then calculate the planet mean temperature:\n",
    "\\begin{equation}\n",
    "\\alpha_p=A_{dw}\\alpha_{dw}+A_{db}\\alpha_{db}+A_{bs}\\alpha_{bs}\n",
    "\\end{equation}\n",
    "\n",
    "local temperatures\n",
    "\\begin{equation}\n",
    "\\alpha_p=A_{dw}\\alpha_{dw}+A_{db}\\alpha_{db}+A_{bs}\\alpha_{bs}\n",
    "\\end{equation}\n",
    "\n",
    "birthrate, and then solve the ODEs... note this is not a good solution method as the system is coupled and the intergration method is explicit, but it will do for present purposes. \n",
    "\\begin{equation}\n",
    "\\alpha_p=A_{dw}\\alpha_{dw}+A_{db}\\alpha_{db}+A_{bs}\\alpha_{bs}\n",
    "\\end{equation}\n"
   ]
  },
  {
   "cell_type": "code",
   "execution_count": 39,
   "metadata": {},
   "outputs": [],
   "source": [
    "# store arrays \n",
    "area_dw_v=[]\n",
    "area_db_v=[]\n",
    "area_bs_v=[]\n",
    "T_p_v=[]\n",
    "area_dw=area_db=0.01 # initial conditions\n",
    "\n",
    "# loop over luminosity...\n",
    "for iflux,flux in enumerate(luminosity):\n",
    "    # initial conditions are taken from a previous run, subject to \n",
    "    # a minimum of 1% in case the species had died out \n",
    "    area_dw=max(area_dw,0.01)   # white daisies can't die out\n",
    "    area_db=max(area_db,0.01)   # black daises neither  \n",
    "    area_bs=1.0-area_dw-area_db # bare soil fraction\n",
    "    it=0\n",
    "    while it<maxloop:  # can put tolerance to exit earlier if converged...\n",
    "        it+=1\n",
    "        \n",
    "        # EQN 5: calculate weighted average albedo\n",
    "        alb_p=area_dw*alb_dw+area_db*alb_db+area_bs*alb_bs\n",
    "        \n",
    "        # EQN 4: calculate planet mean temperature\n",
    "        T_p=np.power(flux*S0*(1-alb_p)/sigma,0.25)\n",
    "        \n",
    "        # EQN 7: calculate local temperatures\n",
    "        T_db=insul*(alb_p-alb_db)+T_p\n",
    "        T_dw=insul*(alb_p-alb_dw)+T_p\n",
    "       \n",
    "        # EQN 3: calculate birth rate beta\n",
    "        birth_rate_db=birth_rate(T_db)\n",
    "        birth_rate_dw=birth_rate(T_dw)\n",
    "        \n",
    "        # EQN 1: change in daisy area\n",
    "        area_db+=area_db*(birth_rate_db*area_bs-death_rate)\n",
    "        area_dw+=area_dw*(birth_rate_dw*area_bs-death_rate)\n",
    "        \n",
    "        # update areas\n",
    "        area_bs=1.0-area_db-area_dw\n",
    "\n",
    "    # store the value...\n",
    "    area_db_v.append(area_db)\n",
    "    area_dw_v.append(area_dw)\n",
    "    area_bs_v.append(area_bs)\n",
    "    T_p_v.append(T_p)\n"
   ]
  },
  {
   "cell_type": "markdown",
   "metadata": {},
   "source": [
    "Now we just need to plot the results:"
   ]
  },
  {
   "cell_type": "code",
   "execution_count": 40,
   "metadata": {
    "scrolled": true
   },
   "outputs": [
    {
     "data": {
      "text/plain": [
       "Text(0,0.5,'Global Temperature (C)')"
      ]
     },
     "execution_count": 40,
     "metadata": {},
     "output_type": "execute_result"
    },
    {
     "data": {
      "image/png": "[encoded data removed]",
      "text/plain": [
       "<matplotlib.figure.Figure at 0x7f5d79fa6358>"
      ]
     },
     "metadata": {
      "needs_background": "light"
     },
     "output_type": "display_data"
    }
   ],
   "source": [
    "fig,ax=plt.subplots(2,1)\n",
    "ax[0].plot(luminosity,area_db_v,color='black',label='black')\n",
    "ax[0].plot(luminosity,area_dw_v,color='red',label='white')\n",
    "ax[0].set_xlabel('solar luminosity')\n",
    "ax[0].set_ylabel('Area')\n",
    "ax[0].legend(loc=\"best\")\n",
    "\n",
    "ax[1].plot(luminosity,np.array(T_p_v)-keloff,color=\"black\")\n",
    "ax[1].set_xlabel('solar luminosity')\n",
    "ax[1].set_ylabel('Global Temperature (C)')\n"
   ]
  },
  {
   "cell_type": "markdown",
   "metadata": {},
   "source": [
    "Questions to investigate\n",
    "\n",
    "1. What happens if you change the albedo values of the black and/or white daisies, or daisy-dependent death rates?\n",
    "\n",
    "2. What happens if, after arriving at a luminosity $L$ of 1.6 you turn the sun back down again?  (i.e. reverse the luminosity loop). Do the solution branches follow each other exactly?\n",
    "\n",
    "3. What happens if for each value of luminosity you start from a near bare earth? (1% coverage for each daisy type)  At which values of luminosity does the population crash occur?\n",
    "\n",
    "4. What happens if you only allow one daisy type? \n",
    "\n",
    "5. What happens if you introduce 3 daisy types\n",
    "\n",
    "6. Watson and Lovelock introduce another experiment in which black daisies are warmer, but they cool the planet by introducing clouds.  This experiment can be conducted by assuming that the TOA albedo for black daisy areas is 0.8, the daises are still warmer than white daisies due to their lower albedo (not very physical!) - See if you can reproduce fig 2 of Watson and Lovelock with this experiment.  What happens to the white daisies?\n",
    "\n",
    "Have fun and above all, never stop asking yourself \"what if?\"\n"
   ]
  },
  {
   "cell_type": "code",
   "execution_count": null,
   "metadata": {},
   "outputs": [],
   "source": []
  }
 ],
 "metadata": {
  "kernelspec": {
   "display_name": "Python 3",
   "language": "python",
   "name": "python3"
  },
  "language_info": {
   "codemirror_mode": {
    "name": "ipython",
    "version": 3
   },
   "file_extension": ".py",
   "mimetype": "text/x-python",
   "name": "python",
   "nbconvert_exporter": "python",
   "pygments_lexer": "ipython3",
   "version": "3.6.9"
  }
 },
 "nbformat": 4,
 "nbformat_minor": 2
}
