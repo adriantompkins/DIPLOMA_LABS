{
 "cells": [
  {
   "cell_type": "markdown",
   "id": "specific-fellow",
   "metadata": {},
   "source": [
    "In this notebook we will look at various fields in ERA"
   ]
  },
  {
   "cell_type": "code",
   "execution_count": 1,
   "id": "several-spectacular",
   "metadata": {},
   "outputs": [],
   "source": [
    "import glob\n",
    "import cdsapi\n",
    "import matplotlib.pyplot as plt\n",
    "from netCDF4 import Dataset, num2date\n",
    "from cdo import *\n",
    "import numpy as np\n",
    "import cartopy.crs as ccrs\n",
    "from metpy.plots import SkewT\n",
    "from metpy.units import units\n",
    "from metpy.calc import dewpoint_from_specific_humidity\n",
    "import xarray as xr \n",
    "import pandas as pd\n",
    "\n",
    "\n",
    "file='/Users/tompkins/TEACHING/DATA/ERA5.nc'\n",
    "anfile='/Users/tompkins/TEACHING/DATA/ERA5_year.nc'"
   ]
  },
  {
   "cell_type": "markdown",
   "id": "bulgarian-cleanup",
   "metadata": {},
   "source": [
    "Now we will download a number of fields...  We could also loop overfields, but it is much more efficient to combine them into a single retrieve request. "
   ]
  },
  {
   "cell_type": "code",
   "execution_count": 2,
   "id": "meaningful-friend",
   "metadata": {},
   "outputs": [
    {
     "name": "stderr",
     "output_type": "stream",
     "text": [
      "2022-01-07 11:50:04,952 INFO Welcome to the CDS\n"
     ]
    },
    {
     "name": "stderr",
     "output_type": "stream",
     "text": [
      "2022-01-07 11:50:04,954 INFO Sending request to https://cds.climate.copernicus.eu/api/v2/resources/reanalysis-era5-single-levels-monthly-means\n"
     ]
    },
    {
     "name": "stderr",
     "output_type": "stream",
     "text": [
      "2022-01-07 11:50:05,027 INFO Request is queued\n"
     ]
    },
    {
     "ename": "KeyboardInterrupt",
     "evalue": "",
     "output_type": "error",
     "traceback": [
      "\u001b[0;31m---------------------------------------------------------------------------\u001b[0m",
      "\u001b[0;31mKeyboardInterrupt\u001b[0m                         Traceback (most recent call last)",
      "\u001b[0;32m/var/folders/sh/kt3hqg9x639_js73vspx7ch40000gn/T/ipykernel_69829/706391321.py\u001b[0m in \u001b[0;36m<module>\u001b[0;34m\u001b[0m\n\u001b[1;32m      3\u001b[0m \u001b[0mc\u001b[0m \u001b[0;34m=\u001b[0m \u001b[0mcdsapi\u001b[0m\u001b[0;34m.\u001b[0m\u001b[0mClient\u001b[0m\u001b[0;34m(\u001b[0m\u001b[0;34m)\u001b[0m\u001b[0;34m\u001b[0m\u001b[0;34m\u001b[0m\u001b[0m\n\u001b[1;32m      4\u001b[0m \u001b[0;34m\u001b[0m\u001b[0m\n\u001b[0;32m----> 5\u001b[0;31m c.retrieve(\n\u001b[0m\u001b[1;32m      6\u001b[0m     \u001b[0;34m'reanalysis-era5-single-levels-monthly-means'\u001b[0m\u001b[0;34m,\u001b[0m\u001b[0;34m\u001b[0m\u001b[0;34m\u001b[0m\u001b[0m\n\u001b[1;32m      7\u001b[0m     {\n",
      "\u001b[0;32m~/Library/Python/3.9/lib/python/site-packages/cdsapi/api.py\u001b[0m in \u001b[0;36mretrieve\u001b[0;34m(self, name, request, target)\u001b[0m\n\u001b[1;32m    346\u001b[0m \u001b[0;34m\u001b[0m\u001b[0m\n\u001b[1;32m    347\u001b[0m     \u001b[0;32mdef\u001b[0m \u001b[0mretrieve\u001b[0m\u001b[0;34m(\u001b[0m\u001b[0mself\u001b[0m\u001b[0;34m,\u001b[0m \u001b[0mname\u001b[0m\u001b[0;34m,\u001b[0m \u001b[0mrequest\u001b[0m\u001b[0;34m,\u001b[0m \u001b[0mtarget\u001b[0m\u001b[0;34m=\u001b[0m\u001b[0;32mNone\u001b[0m\u001b[0;34m)\u001b[0m\u001b[0;34m:\u001b[0m\u001b[0;34m\u001b[0m\u001b[0;34m\u001b[0m\u001b[0m\n\u001b[0;32m--> 348\u001b[0;31m         \u001b[0mresult\u001b[0m \u001b[0;34m=\u001b[0m \u001b[0mself\u001b[0m\u001b[0;34m.\u001b[0m\u001b[0m_api\u001b[0m\u001b[0;34m(\u001b[0m\u001b[0;34m\"%s/resources/%s\"\u001b[0m \u001b[0;34m%\u001b[0m \u001b[0;34m(\u001b[0m\u001b[0mself\u001b[0m\u001b[0;34m.\u001b[0m\u001b[0murl\u001b[0m\u001b[0;34m,\u001b[0m \u001b[0mname\u001b[0m\u001b[0;34m)\u001b[0m\u001b[0;34m,\u001b[0m \u001b[0mrequest\u001b[0m\u001b[0;34m,\u001b[0m \u001b[0;34m\"POST\"\u001b[0m\u001b[0;34m)\u001b[0m\u001b[0;34m\u001b[0m\u001b[0;34m\u001b[0m\u001b[0m\n\u001b[0m\u001b[1;32m    349\u001b[0m         \u001b[0;32mif\u001b[0m \u001b[0mtarget\u001b[0m \u001b[0;32mis\u001b[0m \u001b[0;32mnot\u001b[0m \u001b[0;32mNone\u001b[0m\u001b[0;34m:\u001b[0m\u001b[0;34m\u001b[0m\u001b[0;34m\u001b[0m\u001b[0m\n\u001b[1;32m    350\u001b[0m             \u001b[0mresult\u001b[0m\u001b[0;34m.\u001b[0m\u001b[0mdownload\u001b[0m\u001b[0;34m(\u001b[0m\u001b[0mtarget\u001b[0m\u001b[0;34m)\u001b[0m\u001b[0;34m\u001b[0m\u001b[0;34m\u001b[0m\u001b[0m\n",
      "\u001b[0;32m~/Library/Python/3.9/lib/python/site-packages/cdsapi/api.py\u001b[0m in \u001b[0;36m_api\u001b[0;34m(self, url, request, method)\u001b[0m\n\u001b[1;32m    477\u001b[0m \u001b[0;34m\u001b[0m\u001b[0m\n\u001b[1;32m    478\u001b[0m                 \u001b[0mself\u001b[0m\u001b[0;34m.\u001b[0m\u001b[0mdebug\u001b[0m\u001b[0;34m(\u001b[0m\u001b[0;34m\"Request ID is %s, sleep %s\"\u001b[0m\u001b[0;34m,\u001b[0m \u001b[0mrid\u001b[0m\u001b[0;34m,\u001b[0m \u001b[0msleep\u001b[0m\u001b[0;34m)\u001b[0m\u001b[0;34m\u001b[0m\u001b[0;34m\u001b[0m\u001b[0m\n\u001b[0;32m--> 479\u001b[0;31m                 \u001b[0mtime\u001b[0m\u001b[0;34m.\u001b[0m\u001b[0msleep\u001b[0m\u001b[0;34m(\u001b[0m\u001b[0msleep\u001b[0m\u001b[0;34m)\u001b[0m\u001b[0;34m\u001b[0m\u001b[0;34m\u001b[0m\u001b[0m\n\u001b[0m\u001b[1;32m    480\u001b[0m                 \u001b[0msleep\u001b[0m \u001b[0;34m*=\u001b[0m \u001b[0;36m1.5\u001b[0m\u001b[0;34m\u001b[0m\u001b[0;34m\u001b[0m\u001b[0m\n\u001b[1;32m    481\u001b[0m                 \u001b[0;32mif\u001b[0m \u001b[0msleep\u001b[0m \u001b[0;34m>\u001b[0m \u001b[0mself\u001b[0m\u001b[0;34m.\u001b[0m\u001b[0msleep_max\u001b[0m\u001b[0;34m:\u001b[0m\u001b[0;34m\u001b[0m\u001b[0;34m\u001b[0m\u001b[0m\n",
      "\u001b[0;31mKeyboardInterrupt\u001b[0m: "
     ]
    }
   ],
   "source": [
    "import cdsapi\n",
    "\n",
    "c = cdsapi.Client()\n",
    "\n",
    "c.retrieve(\n",
    "    'reanalysis-era5-single-levels-monthly-means',\n",
    "    {\n",
    "        'format': 'netcdf',\n",
    "        'product_type': 'monthly_averaged_reanalysis',\n",
    "        'variable': [\n",
    "            '10m_u_component_of_wind', '10m_v_component_of_wind', '2m_dewpoint_temperature',\n",
    "            'high_cloud_cover', 'low_cloud_cover', 'medium_cloud_cover',\n",
    "            'sea_surface_temperature', 'surface_latent_heat_flux', 'surface_sensible_heat_flux',\n",
    "            'toa_incident_solar_radiation', 'top_net_solar_radiation', 'top_net_solar_radiation_clear_sky',\n",
    "            'top_net_thermal_radiation', 'top_net_thermal_radiation_clear_sky', 'total_cloud_cover',\n",
    "            'total_precipitation',\n",
    "        ],\n",
    "        'year': '2020',\n",
    "        'month': [\n",
    "            '01', '02', '03',\n",
    "            '04', '05', '06',\n",
    "            '07', '08', '09',\n",
    "            '10', '11', '12',\n",
    "        ],\n",
    "        'time': '00:00',\n",
    "    },\n",
    "    file)"
   ]
  },
  {
   "cell_type": "markdown",
   "id": "daily-heavy",
   "metadata": {},
   "source": [
    "let's open up the file and take a look at the output...  all the variables we requested are in the file and in this way we can see the short names they have that we will need to refer to them.  This opertion is essentially the same as using ncdump."
   ]
  },
  {
   "cell_type": "code",
   "execution_count": 47,
   "id": "superior-stick",
   "metadata": {},
   "outputs": [
    {
     "data": {
      "text/plain": [
       "{'longitude': <class 'netCDF4._netCDF4.Variable'>\n",
       " float32 longitude(longitude)\n",
       "     units: degrees_east\n",
       "     long_name: longitude\n",
       " unlimited dimensions: \n",
       " current shape = (1440,)\n",
       " filling on, default _FillValue of 9.969209968386869e+36 used,\n",
       " 'latitude': <class 'netCDF4._netCDF4.Variable'>\n",
       " float32 latitude(latitude)\n",
       "     units: degrees_north\n",
       "     long_name: latitude\n",
       " unlimited dimensions: \n",
       " current shape = (721,)\n",
       " filling on, default _FillValue of 9.969209968386869e+36 used,\n",
       " 'time': <class 'netCDF4._netCDF4.Variable'>\n",
       " int32 time(time)\n",
       "     units: hours since 1900-01-01 00:00:00.0\n",
       "     long_name: time\n",
       "     calendar: gregorian\n",
       " unlimited dimensions: \n",
       " current shape = (12,)\n",
       " filling on, default _FillValue of -2147483647 used,\n",
       " 'u10': <class 'netCDF4._netCDF4.Variable'>\n",
       " int16 u10(time, latitude, longitude)\n",
       "     scale_factor: 0.00043575012752811263\n",
       "     add_offset: -1.256208857119428\n",
       "     _FillValue: -32767\n",
       "     missing_value: -32767\n",
       "     units: m s**-1\n",
       "     long_name: 10 metre U wind component\n",
       " unlimited dimensions: \n",
       " current shape = (12, 721, 1440)\n",
       " filling on,\n",
       " 'v10': <class 'netCDF4._netCDF4.Variable'>\n",
       " int16 v10(time, latitude, longitude)\n",
       "     scale_factor: 0.0004837428383091358\n",
       "     add_offset: 2.6744459909770857\n",
       "     _FillValue: -32767\n",
       "     missing_value: -32767\n",
       "     units: m s**-1\n",
       "     long_name: 10 metre V wind component\n",
       " unlimited dimensions: \n",
       " current shape = (12, 721, 1440)\n",
       " filling on,\n",
       " 'd2m': <class 'netCDF4._netCDF4.Variable'>\n",
       " int16 d2m(time, latitude, longitude)\n",
       "     scale_factor: 0.0014924449908139076\n",
       "     add_offset: 253.34015801334445\n",
       "     _FillValue: -32767\n",
       "     missing_value: -32767\n",
       "     units: K\n",
       "     long_name: 2 metre dewpoint temperature\n",
       " unlimited dimensions: \n",
       " current shape = (12, 721, 1440)\n",
       " filling on,\n",
       " 'hcc': <class 'netCDF4._netCDF4.Variable'>\n",
       " int16 hcc(time, latitude, longitude)\n",
       "     scale_factor: 1.4916279506841973e-05\n",
       "     add_offset: 0.48874681432118405\n",
       "     _FillValue: -32767\n",
       "     missing_value: -32767\n",
       "     units: (0 - 1)\n",
       "     long_name: High cloud cover\n",
       " unlimited dimensions: \n",
       " current shape = (12, 721, 1440)\n",
       " filling on,\n",
       " 'lcc': <class 'netCDF4._netCDF4.Variable'>\n",
       " int16 lcc(time, latitude, longitude)\n",
       "     scale_factor: 1.5253433712547496e-05\n",
       "     add_offset: 0.4997940090253312\n",
       "     _FillValue: -32767\n",
       "     missing_value: -32767\n",
       "     units: (0 - 1)\n",
       "     long_name: Low cloud cover\n",
       " unlimited dimensions: \n",
       " current shape = (12, 721, 1440)\n",
       " filling on,\n",
       " 'mcc': <class 'netCDF4._netCDF4.Variable'>\n",
       " int16 mcc(time, latitude, longitude)\n",
       "     scale_factor: 1.4218919806504929e-05\n",
       "     add_offset: 0.4658971263799405\n",
       "     _FillValue: -32767\n",
       "     missing_value: -32767\n",
       "     units: (0 - 1)\n",
       "     long_name: Medium cloud cover\n",
       " unlimited dimensions: \n",
       " current shape = (12, 721, 1440)\n",
       " filling on,\n",
       " 'sst': <class 'netCDF4._netCDF4.Variable'>\n",
       " int16 sst(time, latitude, longitude)\n",
       "     scale_factor: 0.0005855083269116323\n",
       "     add_offset: 288.73139669896153\n",
       "     _FillValue: -32767\n",
       "     missing_value: -32767\n",
       "     units: K\n",
       "     long_name: Sea surface temperature\n",
       " unlimited dimensions: \n",
       " current shape = (12, 721, 1440)\n",
       " filling on,\n",
       " 'slhf': <class 'netCDF4._netCDF4.Variable'>\n",
       " int16 slhf(time, latitude, longitude)\n",
       "     scale_factor: 732.7007767079182\n",
       "     add_offset: -20782246.350388356\n",
       "     _FillValue: -32767\n",
       "     missing_value: -32767\n",
       "     units: J m**-2\n",
       "     long_name: Surface latent heat flux\n",
       "     standard_name: surface_upward_latent_heat_flux\n",
       " unlimited dimensions: \n",
       " current shape = (12, 721, 1440)\n",
       " filling on,\n",
       " 'sshf': <class 'netCDF4._netCDF4.Variable'>\n",
       " int16 sshf(time, latitude, longitude)\n",
       "     scale_factor: 560.6476279126547\n",
       "     add_offset: -11120971.823813956\n",
       "     _FillValue: -32767\n",
       "     missing_value: -32767\n",
       "     units: J m**-2\n",
       "     long_name: Surface sensible heat flux\n",
       "     standard_name: surface_upward_sensible_heat_flux\n",
       " unlimited dimensions: \n",
       " current shape = (12, 721, 1440)\n",
       " filling on,\n",
       " 'tisr': <class 'netCDF4._netCDF4.Variable'>\n",
       " int16 tisr(time, latitude, longitude)\n",
       "     scale_factor: 724.6112950727114\n",
       "     add_offset: 23742613.694352463\n",
       "     _FillValue: -32767\n",
       "     missing_value: -32767\n",
       "     units: J m**-2\n",
       "     long_name: TOA incident solar radiation\n",
       " unlimited dimensions: \n",
       " current shape = (12, 721, 1440)\n",
       " filling on,\n",
       " 'tsr': <class 'netCDF4._netCDF4.Variable'>\n",
       " int16 tsr(time, latitude, longitude)\n",
       "     scale_factor: 595.7147696580349\n",
       "     add_offset: 19519190.14261517\n",
       "     _FillValue: -32767\n",
       "     missing_value: -32767\n",
       "     units: J m**-2\n",
       "     long_name: Top net solar radiation\n",
       "     standard_name: toa_net_upward_shortwave_flux\n",
       " unlimited dimensions: \n",
       " current shape = (12, 721, 1440)\n",
       " filling on,\n",
       " 'tsrc': <class 'netCDF4._netCDF4.Variable'>\n",
       " int16 tsrc(time, latitude, longitude)\n",
       "     scale_factor: 640.0292982161659\n",
       "     add_offset: 20971199.985350892\n",
       "     _FillValue: -32767\n",
       "     missing_value: -32767\n",
       "     units: J m**-2\n",
       "     long_name: Top net solar radiation, clear sky\n",
       " unlimited dimensions: \n",
       " current shape = (12, 721, 1440)\n",
       " filling on,\n",
       " 'ttr': <class 'netCDF4._netCDF4.Variable'>\n",
       " int16 ttr(time, latitude, longitude)\n",
       "     scale_factor: 310.8948468710421\n",
       "     add_offset: -19491875.447423436\n",
       "     _FillValue: -32767\n",
       "     missing_value: -32767\n",
       "     units: J m**-2\n",
       "     long_name: Top net thermal radiation\n",
       "     standard_name: toa_outgoing_longwave_flux\n",
       " unlimited dimensions: \n",
       " current shape = (12, 721, 1440)\n",
       " filling on,\n",
       " 'ttrc': <class 'netCDF4._netCDF4.Variable'>\n",
       " int16 ttrc(time, latitude, longitude)\n",
       "     scale_factor: 313.6315444127386\n",
       "     add_offset: -19470028.815772206\n",
       "     _FillValue: -32767\n",
       "     missing_value: -32767\n",
       "     units: J m**-2\n",
       "     long_name: Top net thermal radiation, clear sky\n",
       " unlimited dimensions: \n",
       " current shape = (12, 721, 1440)\n",
       " filling on,\n",
       " 'tcc': <class 'netCDF4._netCDF4.Variable'>\n",
       " int16 tcc(time, latitude, longitude)\n",
       "     scale_factor: 1.5257322247964349e-05\n",
       "     add_offset: 0.49992142077679985\n",
       "     _FillValue: -32767\n",
       "     missing_value: -32767\n",
       "     units: (0 - 1)\n",
       "     long_name: Total cloud cover\n",
       "     standard_name: cloud_area_fraction\n",
       " unlimited dimensions: \n",
       " current shape = (12, 721, 1440)\n",
       " filling on,\n",
       " 'tp': <class 'netCDF4._netCDF4.Variable'>\n",
       " int16 tp(time, latitude, longitude)\n",
       "     scale_factor: 2.0261268021395233e-06\n",
       "     add_offset: 0.06638807079890362\n",
       "     _FillValue: -32767\n",
       "     missing_value: -32767\n",
       "     units: m\n",
       "     long_name: Total precipitation\n",
       " unlimited dimensions: \n",
       " current shape = (12, 721, 1440)\n",
       " filling on}"
      ]
     },
     "execution_count": 47,
     "metadata": {},
     "output_type": "execute_result"
    }
   ],
   "source": [
    "ds=Dataset(file)\n",
    "ds.variables"
   ]
  },
  {
   "cell_type": "markdown",
   "id": "medium-discharge",
   "metadata": {},
   "source": [
    "The file has data for one year, thus 12 timesteps.  Let's take the year average.  Now we could do this with xarray for example, or indeed numpy functions, but let's see how we can use cdo from within python"
   ]
  },
  {
   "cell_type": "code",
   "execution_count": 48,
   "id": "meaning-cooperation",
   "metadata": {},
   "outputs": [],
   "source": [
    "# set cdo to an incidence of Cdo(), you don't need to do this, but cdo.func is neater than Cdo().func\n",
    "#cdo = Cdo()\n",
    "anfile='/Users/tompkins/TEACHING/DATA/ERA5_year.nc'\n",
    "#cdo.yearmean(input=cdo.yearmean(input=file,output=anfile,options=\"-O \"))\n",
    "\n",
    "ds=Dataset(anfile)\n",
    "lons=ds.variables[\"longitude\"][:]\n",
    "lats=ds.variables[\"latitude\"][:]\n",
    "import cartopy"
   ]
  },
  {
   "cell_type": "markdown",
   "id": "1d4f61cf",
   "metadata": {},
   "source": [
    "We now define a map plot routine in order to show the "
   ]
  },
  {
   "cell_type": "code",
   "execution_count": 49,
   "id": "cardiac-maker",
   "metadata": {},
   "outputs": [],
   "source": [
    "def make_plot(lons,lats,data,title=\"\"):\n",
    "      \n",
    "    ax1=plt.axes(projection=ccrs.Orthographic(),transform=ccrs.PlateCarree())\n",
    "    cf=plt.pcolormesh(lons, lats, sst,transform=ccrs.Orthographic(),)\n",
    "    #plt.contour(lons,lats,sst, 8, colors='k')\n",
    "    ax1.coastlines()\n",
    "    ax1.set_title(title)\n",
    "    plt.colorbar(cf, ax=ax1,orientation='horizontal')\n",
    "    gl=ax1.gridlines(draw_labels=True)\n",
    "    gl.top_labels = False\n",
    "    gl.right_labels = False\n",
    "\n",
    "    plt.show()\n"
   ]
  },
  {
   "cell_type": "code",
   "execution_count": 50,
   "id": "lasting-kennedy",
   "metadata": {},
   "outputs": [
    {
     "data": {
      "image/png": "[encoded data removed]",
      "text/plain": [
       "<Figure size 432x288 with 2 Axes>"
      ]
     },
     "metadata": {
      "filenames": {
       "image/png": "/Users/tompkins/TEACHING/DIPLOMA_LABS/_build/jupyter_execute/notebooks/Today's climate_10_0.png"
      },
      "needs_background": "light"
     },
     "output_type": "display_data"
    }
   ],
   "source": [
    "\n",
    "sst=ds.variables[\"sst\"][0,:,:]\n",
    "make_plot(lons,lats,sst,title=\"SST\")"
   ]
  },
  {
   "cell_type": "code",
   "execution_count": null,
   "id": "2e8f973b",
   "metadata": {},
   "outputs": [],
   "source": [
    "file_plevs='/Users/tompkins/TEACHING/DATA/tq_plevs.nc'\n",
    "plevs=[ '1', '2', '3',\n",
    "            '5', '7', '10',\n",
    "            '20', '30', '50',\n",
    "            '70', '100', '125',\n",
    "            '150', '175', '200',\n",
    "            '225', '250', '300',\n",
    "            '350', '400', '450',\n",
    "            '500', '550', '600',\n",
    "            '650', '700', '750',\n",
    "            '775', '800', '825',\n",
    "            '850', '875', '900',\n",
    "            '925', '950', '975',\n",
    "            '1000']\n",
    "plevs = units.Quantity(plevs,\"hPa\")"
   ]
  },
  {
   "cell_type": "code",
   "execution_count": null,
   "id": "90a1e7bf",
   "metadata": {},
   "outputs": [],
   "source": [
    "c = cdsapi.Client()\n",
    "\n",
    "c.retrieve(\n",
    "    'reanalysis-era5-pressure-levels-monthly-means',\n",
    "    {\n",
    "        'product_type': 'monthly_averaged_reanalysis',\n",
    "        'variable': [\n",
    "            'specific_humidity', 'temperature',\n",
    "        ],\n",
    "        'pressure_level': plevs,\n",
    "        'year': '2020',\n",
    "        'month': '06',\n",
    "        'time': '00:00',\n",
    "        'format': 'netcdf',\n",
    "    },\n",
    "    file_plevs)"
   ]
  },
  {
   "cell_type": "code",
   "execution_count": null,
   "id": "0324e8e0",
   "metadata": {},
   "outputs": [],
   "source": [
    "ds=xr.open_dataset(file_plevs)\n",
    "lon=0\n",
    "lat=30 \n",
    "temp=ds[\"t\"].sel(longitude=lon, latitude=lat, method=\"nearest\")\n",
    "qv=ds[\"q\"].sel(longitude=lon, latitude=lat, method=\"nearest\")\n",
    "Td=dewpoint_from_specific_humidity(temp.level, temp[0,:], qv[0,:])\n",
    "\n",
    "temp-=273.15\n",
    "fig=plt.figure(figsize=(9, 9))\n",
    "skew=SkewT(fig)\n",
    "skew.plot_moist_adiabats()\n",
    "\n",
    "#plevs = units.Quantity(plevs,\"hPa\")\n",
    "skew.plot_mixing_lines()\n",
    "skew.plot_dry_adiabats()\n",
    "skew.plot(temp.level,temp[0,:],'r',linestyle='-', linewidth=3, label='Temperature')\n",
    "skew.plot(Td.level,Td,'blue',linestyle=':', linewidth=3, label='humidity')\n",
    "fig.legend()\n",
    "plt.title(\"location: lon=\"+str(lon)+\" lat=\"+str(lat))"
   ]
  },
  {
   "cell_type": "code",
   "execution_count": null,
   "id": "a7d5de82",
   "metadata": {},
   "outputs": [],
   "source": [
    "Tglobal"
   ]
  },
  {
   "cell_type": "code",
   "execution_count": null,
   "id": "65a9e441",
   "metadata": {},
   "outputs": [],
   "source": []
  }
 ],
 "metadata": {
  "kernelspec": {
   "display_name": "Python 3 (ipykernel)",
   "language": "python",
   "name": "python3"
  },
  "language_info": {
   "codemirror_mode": {
    "name": "ipython",
    "version": 3
   },
   "file_extension": ".py",
   "mimetype": "text/x-python",
   "name": "python",
   "nbconvert_exporter": "python",
   "pygments_lexer": "ipython3",
   "version": "3.9.9"
  }
 },
 "nbformat": 4,
 "nbformat_minor": 5
}