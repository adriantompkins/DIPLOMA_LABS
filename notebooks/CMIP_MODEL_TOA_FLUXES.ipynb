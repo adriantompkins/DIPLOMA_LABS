{
 "cells": [
  {
   "cell_type": "markdown",
   "metadata": {},
   "source": [
    "# Flux imbalance at the TOA\n",
    "\n",
    "In this notebook we follow on from the previous lecture, this time we will jump straight in and retrieve the TOA fluxes...  Let's start by setting up the retrieve function again with which you are now familiar.\n"
   ]
  },
  {
   "cell_type": "code",
   "execution_count": 5,
   "metadata": {},
   "outputs": [],
   "source": [
    "# import all the packages we will need for this lesson\n",
    "import cdsapi\n",
    "import matplotlib.pyplot as plt\n",
    "from netCDF4 import Dataset, num2date\n",
    "from cdo import *\n",
    "import numpy as np\n",
    "from os import mkdir\n",
    "import datetime"
   ]
  },
  {
   "cell_type": "code",
   "execution_count": 7,
   "metadata": {},
   "outputs": [],
   "source": [
    "# python code for getting code\n",
    "\n",
    "#odir=\"/Users/tompkins/junk/\"\n",
    "odir=\"/scratch/tompkins/cmip6/\"\n",
    "\n",
    "mkdir(odir)\n",
    "\n",
    "def get_var(model,var,exp):\n",
    "\n",
    "    c = cdsapi.Client()\n",
    "    \n",
    "    # This is where you want to put your output directory and file name\n",
    "    ofile=odir+model+\"_\"+var+\"_\"+exp+\".zip\"\n",
    "\n",
    "    c.retrieve(\n",
    "    'projections-cmip6',\n",
    "    {\n",
    "        'format': 'zip',\n",
    "        'temporal_resolution': 'monthly',\n",
    "        'experiment': exp,\n",
    "        'level': 'single_levels',\n",
    "        'variable': var,\n",
    "        'model': model,\n",
    "    },\n",
    "    ofile)\n",
    "    \n",
    "    return ofile\n"
   ]
  },
  {
   "cell_type": "markdown",
   "metadata": {},
   "source": [
    "so now let's use the function to get the TOA fluxes from a few models."
   ]
  },
  {
   "cell_type": "code",
   "execution_count": null,
   "metadata": {},
   "outputs": [
    {
     "name": "stderr",
     "output_type": "stream",
     "text": [
      "2021-05-26 12:43:54,991 INFO Welcome to the CDS\n",
      "2021-05-26 12:43:54,992 INFO Sending request to https://cds.climate.copernicus.eu/api/v2/resources/projections-cmip6\n"
     ]
    },
    {
     "name": "stdout",
     "output_type": "stream",
     "text": [
      "toa_outgoing_shortwave_radiation canesm5\n"
     ]
    },
    {
     "name": "stderr",
     "output_type": "stream",
     "text": [
      "2021-05-26 12:43:55,203 INFO Request is completed\n",
      "2021-05-26 12:43:55,205 INFO Downloading https://download-0003.copernicus-climate.eu/cache-compute-0003/cache/data2/adaptor.esgf_wps.retrieve-1622025371.8238087-32079-4-94713805-b40a-421f-a6d5-3cda65038591.zip to /scratch/tompkins/cmip6/canesm5_toa_outgoing_shortwave_radiation_ssp5_8_5.zip (90M)\n",
      "2021-05-26 12:43:58,740 INFO Download rate 25.5M/s  \n",
      "2021-05-26 12:43:58,975 INFO Welcome to the CDS\n",
      "2021-05-26 12:43:58,976 INFO Sending request to https://cds.climate.copernicus.eu/api/v2/resources/projections-cmip6\n"
     ]
    },
    {
     "name": "stdout",
     "output_type": "stream",
     "text": [
      "toa_outgoing_longwave_radiation canesm5\n"
     ]
    },
    {
     "name": "stderr",
     "output_type": "stream",
     "text": [
      "2021-05-26 12:43:59,164 INFO Request is queued\n",
      "2021-05-26 12:44:00,220 INFO Request is running\n",
      "2021-05-26 12:44:20,268 INFO Request is completed\n",
      "2021-05-26 12:44:20,270 INFO Downloading https://download-0004.copernicus-climate.eu/cache-compute-0004/cache/data8/adaptor.esgf_wps.retrieve-1622025847.8412232-26222-3-08af7eee-d460-425f-a1f2-65f38b50af59.zip to /scratch/tompkins/cmip6/canesm5_toa_outgoing_longwave_radiation_ssp5_8_5.zip (91.8M)\n",
      "2021-05-26 12:44:22,446 INFO Download rate 42.2M/s  \n",
      "2021-05-26 12:44:22,682 INFO Welcome to the CDS\n",
      "2021-05-26 12:44:22,683 INFO Sending request to https://cds.climate.copernicus.eu/api/v2/resources/projections-cmip6\n"
     ]
    },
    {
     "name": "stdout",
     "output_type": "stream",
     "text": [
      "toa_outgoing_shortwave_radiation mpi_esm1_2_lr\n"
     ]
    },
    {
     "name": "stderr",
     "output_type": "stream",
     "text": [
      "2021-05-26 12:44:22,887 INFO Request is completed\n",
      "2021-05-26 12:44:22,887 INFO Downloading https://download-0003.copernicus-climate.eu/cache-compute-0003/cache/data7/adaptor.esgf_wps.retrieve-1622025813.697297-31602-4-1d5242d8-e32e-40c3-a8f4-756f8b5a80ec.zip to /scratch/tompkins/cmip6/mpi_esm1_2_lr_toa_outgoing_shortwave_radiation_ssp5_8_5.zip (35.9M)\n",
      "2021-05-26 12:44:36,517 INFO Download rate 2.6M/s   \n",
      "2021-05-26 12:44:36,758 INFO Welcome to the CDS\n",
      "2021-05-26 12:44:36,759 INFO Sending request to https://cds.climate.copernicus.eu/api/v2/resources/projections-cmip6\n"
     ]
    },
    {
     "name": "stdout",
     "output_type": "stream",
     "text": [
      "toa_outgoing_longwave_radiation mpi_esm1_2_lr\n"
     ]
    },
    {
     "name": "stderr",
     "output_type": "stream",
     "text": [
      "2021-05-26 12:44:37,035 INFO Request is completed\n",
      "2021-05-26 12:44:37,037 INFO Downloading https://download-0003.copernicus-climate.eu/cache-compute-0003/cache/data5/adaptor.esgf_wps.retrieve-1622025615.0623248-32004-10-8b58ae86-8158-44e2-b48d-46c38f48ffdd.zip to /scratch/tompkins/cmip6/mpi_esm1_2_lr_toa_outgoing_longwave_radiation_ssp5_8_5.zip (33.4M)\n",
      "2021-05-26 12:44:46,189 INFO Download rate 3.6M/s   \n"
     ]
    },
    {
     "name": "stdout",
     "output_type": "stream",
     "text": [
      "toa_outgoing_shortwave_radiation cmcc_cm2_sr5\n"
     ]
    },
    {
     "name": "stderr",
     "output_type": "stream",
     "text": [
      "2021-05-26 12:44:46,457 INFO Welcome to the CDS\n",
      "2021-05-26 12:44:46,459 INFO Sending request to https://cds.climate.copernicus.eu/api/v2/resources/projections-cmip6\n",
      "2021-05-26 12:44:46,667 INFO Request is completed\n",
      "2021-05-26 12:44:46,669 INFO Downloading https://download-0004.copernicus-climate.eu/cache-compute-0004/cache/data0/adaptor.esgf_wps.retrieve-1622025831.9204278-26294-3-47302eda-9833-40c1-b394-70e35de12feb.zip to /scratch/tompkins/cmip6/cmcc_cm2_sr5_toa_outgoing_shortwave_radiation_ssp5_8_5.zip (150.8M)\n",
      "2021-05-26 12:44:51,140 INFO Download rate 33.7M/s \n",
      "2021-05-26 12:44:51,386 INFO Welcome to the CDS\n",
      "2021-05-26 12:44:51,389 INFO Sending request to https://cds.climate.copernicus.eu/api/v2/resources/projections-cmip6\n"
     ]
    },
    {
     "name": "stdout",
     "output_type": "stream",
     "text": [
      "toa_outgoing_longwave_radiation cmcc_cm2_sr5\n"
     ]
    },
    {
     "name": "stderr",
     "output_type": "stream",
     "text": [
      "2021-05-26 12:44:51,596 INFO Request is queued\n",
      "2021-05-26 12:44:52,647 INFO Request is running\n",
      "2021-05-26 12:45:12,695 INFO Request is completed\n",
      "2021-05-26 12:45:12,696 INFO Downloading https://download-0004.copernicus-climate.eu/cache-compute-0004/cache/data0/adaptor.esgf_wps.retrieve-1622025900.982731-26156-4-b695f373-8f09-4fdc-8ac3-65f33c0223b3.zip to /scratch/tompkins/cmip6/cmcc_cm2_sr5_toa_outgoing_longwave_radiation_ssp5_8_5.zip (137.7M)\n",
      "2021-05-26 12:45:19,363 INFO Download rate 20.7M/s \n",
      "2021-05-26 12:45:19,594 INFO Welcome to the CDS\n",
      "2021-05-26 12:45:19,596 INFO Sending request to https://cds.climate.copernicus.eu/api/v2/resources/projections-cmip6\n"
     ]
    },
    {
     "name": "stdout",
     "output_type": "stream",
     "text": [
      "toa_outgoing_shortwave_radiation miroc6\n"
     ]
    },
    {
     "name": "stderr",
     "output_type": "stream",
     "text": [
      "2021-05-26 12:45:19,999 INFO Request is queued\n",
      "2021-05-26 12:45:21,050 INFO Request is running\n",
      "2021-05-26 12:45:41,101 INFO Request is completed\n",
      "2021-05-26 12:45:41,102 INFO Downloading https://download-0004.copernicus-climate.eu/cache-compute-0004/cache/data8/adaptor.esgf_wps.retrieve-1622025932.0695705-26258-3-ffb32c43-d33e-4f10-9348-df9920c21e8b.zip to /scratch/tompkins/cmip6/miroc6_toa_outgoing_shortwave_radiation_ssp5_8_5.zip (88.9M)\n",
      "2021-05-26 12:45:44,475 INFO Download rate 26.4M/s  \n",
      "2021-05-26 12:45:44,720 INFO Welcome to the CDS\n",
      "2021-05-26 12:45:44,722 INFO Sending request to https://cds.climate.copernicus.eu/api/v2/resources/projections-cmip6\n"
     ]
    },
    {
     "name": "stdout",
     "output_type": "stream",
     "text": [
      "toa_outgoing_longwave_radiation miroc6\n"
     ]
    },
    {
     "name": "stderr",
     "output_type": "stream",
     "text": [
      "2021-05-26 12:45:44,918 INFO Request is queued\n",
      "2021-05-26 12:45:45,971 INFO Request is running\n",
      "2021-05-26 12:45:58,373 INFO Request is completed\n",
      "2021-05-26 12:45:58,375 INFO Downloading https://download-0004.copernicus-climate.eu/cache-compute-0004/cache/data2/adaptor.esgf_wps.retrieve-1622025953.355772-26411-4-138bb488-ec3e-4969-b120-cafb74af0481.zip to /scratch/tompkins/cmip6/miroc6_toa_outgoing_longwave_radiation_ssp5_8_5.zip (82.3M)\n",
      "2021-05-26 12:46:00,605 INFO Download rate 36.9M/s  \n",
      "2021-05-26 12:46:00,844 INFO Welcome to the CDS\n",
      "2021-05-26 12:46:00,845 INFO Sending request to https://cds.climate.copernicus.eu/api/v2/resources/projections-cmip6\n"
     ]
    },
    {
     "name": "stdout",
     "output_type": "stream",
     "text": [
      "toa_outgoing_shortwave_radiation noresm2_mm\n"
     ]
    },
    {
     "name": "stderr",
     "output_type": "stream",
     "text": [
      "2021-05-26 12:46:01,100 INFO Request is queued\n",
      "2021-05-26 12:46:02,154 INFO Request is running\n",
      "2021-05-26 12:46:22,220 INFO Request is completed\n",
      "2021-05-26 12:46:22,222 INFO Downloading https://download-0012.copernicus-climate.eu/cache-compute-0012/cache/data3/adaptor.esgf_wps.retrieve-1622025973.0386257-11520-4-6c09207c-3674-448f-9634-dd599b4f7e11.zip to /scratch/tompkins/cmip6/noresm2_mm_toa_outgoing_shortwave_radiation_ssp5_8_5.zip (149.1M)\n",
      "2021-05-26 12:46:32,248 INFO Download rate 14.9M/s \n",
      "2021-05-26 12:46:32,494 INFO Welcome to the CDS\n",
      "2021-05-26 12:46:32,495 INFO Sending request to https://cds.climate.copernicus.eu/api/v2/resources/projections-cmip6\n"
     ]
    },
    {
     "name": "stdout",
     "output_type": "stream",
     "text": [
      "toa_outgoing_longwave_radiation noresm2_mm\n"
     ]
    },
    {
     "name": "stderr",
     "output_type": "stream",
     "text": [
      "2021-05-26 12:46:32,752 INFO Request is queued\n",
      "2021-05-26 12:46:33,806 INFO Request is running\n",
      "2021-05-26 12:46:53,859 INFO Request is completed\n",
      "2021-05-26 12:46:53,860 INFO Downloading https://download-0003.copernicus-climate.eu/cache-compute-0003/cache/data2/adaptor.esgf_wps.retrieve-1622026000.032005-31926-13-c9df4dd7-e4d2-4b27-9e92-7f4eb6b17b7f.zip to /scratch/tompkins/cmip6/noresm2_mm_toa_outgoing_longwave_radiation_ssp5_8_5.zip (136.9M)\n",
      "2021-05-26 12:47:00,154 INFO Download rate 21.8M/s \n",
      "2021-05-26 12:47:00,399 INFO Welcome to the CDS\n",
      "2021-05-26 12:47:00,401 INFO Sending request to https://cds.climate.copernicus.eu/api/v2/resources/projections-cmip6\n"
     ]
    },
    {
     "name": "stdout",
     "output_type": "stream",
     "text": [
      "toa_outgoing_shortwave_radiation hadgem3_gc31_mm\n"
     ]
    },
    {
     "name": "stderr",
     "output_type": "stream",
     "text": [
      "2021-05-26 12:47:00,596 INFO Request is queued\n",
      "2021-05-26 12:47:01,648 INFO Request is running\n"
     ]
    }
   ],
   "source": [
    "models=[\"CanESM5\",\"MPI_ESM1_2_LR\",\"CMCC_CM2_SR5\",\"MIROC6\",\"NorESM2_MM\",\"HadGEM3_GC31_MM\"]\n",
    "models=[s.lower() for s in models] # and convert to lower case too...\n",
    "exp='ssp5_8_5'\n",
    "varlist=['toa_outgoing_shortwave_radiation','toa_outgoing_longwave_radiation']\n",
    "# process the files and make the timeseries\n",
    "zipfiles=[]\n",
    "for model in models:\n",
    "    for var in varlist:\n",
    "        print(var,model)\n",
    "        zipfiles.append(get_var(model,var,exp))\n",
    "\n"
   ]
  },
  {
   "cell_type": "code",
   "execution_count": null,
   "metadata": {},
   "outputs": [],
   "source": []
  },
  {
   "cell_type": "code",
   "execution_count": null,
   "metadata": {},
   "outputs": [],
   "source": []
  }
 ],
 "metadata": {
  "kernelspec": {
   "display_name": "Python 3",
   "language": "python",
   "name": "python3"
  },
  "language_info": {
   "codemirror_mode": {
    "name": "ipython",
    "version": 3
   },
   "file_extension": ".py",
   "mimetype": "text/x-python",
   "name": "python",
   "nbconvert_exporter": "python",
   "pygments_lexer": "ipython3",
   "version": "3.6.9"
  }
 },
 "nbformat": 4,
 "nbformat_minor": 2
}
