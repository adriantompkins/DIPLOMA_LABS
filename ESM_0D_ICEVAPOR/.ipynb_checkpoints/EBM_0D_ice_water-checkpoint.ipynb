{
 "cells": [
  {
   "cell_type": "markdown",
   "metadata": {},
   "source": [
    " Consider the globally averaged energy balance equation for a planet whose surface temperature is $T$:\n",
    " \n",
    " \\begin{equation}\n",
    "  C \\frac{dT}{dt} = \\frac{S_0}{4} [ 1 - \\alpha(T)]  - \\frac{\\sigma T^4}{[1 + \\tau(T)]}\n",
    "  \\end{equation}\n",
    " \n",
    " Unlike what we did in class, here we will consider both an ice-albedo and a water-vapor feedback. $C$ is the heat capacity of our system. We will assume\n",
    "\n",
    " \\begin{equation}\n",
    "  \\alpha = 0.45 - 0.25 \\,\\mathrm{tanh} \\, [(T-272)/23]\n",
    "  \\end{equation}\n",
    " and\n",
    " \\begin{equation}\n",
    "  \\tau = 0.56 + 0.07 \\exp \\big [ - \\frac{L_v}{R_v}  \\big( \\frac{1}{T} - \\frac{1}{288} \\big ) \\big ] \n",
    "  \\end{equation}\n",
    "The function $\\alpha(T)$ is a continuous function that provides a good fit to the observed data. $\\tau(T)$ includes a part that is constant (greenhouse gases and clouds) and a variable part that is proportional to water vapor pressure.  Remember that $R_v = 461.5$ J kg$^{-1}$ K$^{-1}$ and $L_v = 2.5 \\times 10^6$ J kg$^{-1}$."
   ]
  },
  {
   "cell_type": "code",
   "execution_count": null,
   "metadata": {},
   "outputs": [],
   "source": []
  }
 ],
 "metadata": {
  "kernelspec": {
   "display_name": "Python 3",
   "language": "python",
   "name": "python3"
  },
  "language_info": {
   "codemirror_mode": {
    "name": "ipython",
    "version": 3
   },
   "file_extension": ".py",
   "mimetype": "text/x-python",
   "name": "python",
   "nbconvert_exporter": "python",
   "pygments_lexer": "ipython3",
   "version": "3.7.3"
  }
 },
 "nbformat": 4,
 "nbformat_minor": 2
}
