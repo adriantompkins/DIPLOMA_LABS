{
 "cells": [
  {
   "cell_type": "markdown",
   "metadata": {},
   "source": [
    "# Adding water vapor feedback\n",
    "  \n",
    "We return to the energy balance equation but this time write the OLR term as a function of the atmospheric emissivity:\n",
    "  \n",
    "  \\begin{equation}\n",
    "  C \\frac{dT}{dt} = \\frac{S_0}{4} [ 1 - \\alpha(T)]  - (1-\\epsilon /2) \\sigma T^4\n",
    "  \\end{equation}\n",
    " \n",
    " The atmospheric emissivity is related to the optical depth by Beer-Lambert law:\n",
    " \n",
    " \\begin{equation}\n",
    "  \\epsilon = 1-e^{-\\tau}\n",
    "\\end{equation}\n",
    "  \n",
    " and we will specify the optical depth as a temperature-dependent function that represents the increase of water vapor specific humidity with temperature added to a constant value that represents the effects of clouds and other greenhouse gases:\n",
    " \n",
    " \\begin{equation}\n",
    "  \\tau = 0.56 + 0.07 \\exp \\big [ - \\frac{L_v}{R_v}  \\big( \\frac{1}{T} - \\frac{1}{288} \\big ) \\big ] \n",
    "  \\end{equation}\n",
    "\n",
    " $\\tau(T)$ includes a part that is constant (greenhouse gases and clouds) and a variable part that is proportional to water vapor pressure.  Remember that $R_v = 461.5$ J kg$^{-1}$ K$^{-1}$ and $L_v = 2.5 \\times 10^6$ J kg$^{-1}$."
   ]
  },
  {
   "cell_type": "code",
   "execution_count": 1,
   "metadata": {},
   "outputs": [
    {
     "ename": "NameError",
     "evalue": "name 'Lv' is not defined",
     "output_type": "error",
     "traceback": [
      "\u001b[0;31m---------------------------------------------------------------------------\u001b[0m",
      "\u001b[0;31mNameError\u001b[0m                                 Traceback (most recent call last)",
      "\u001b[0;32m<ipython-input-1-3c87f5616d96>\u001b[0m in \u001b[0;36m<module>\u001b[0;34m\u001b[0m\n\u001b[1;32m     22\u001b[0m \u001b[0mfig\u001b[0m\u001b[0;34m,\u001b[0m\u001b[0max\u001b[0m\u001b[0;34m=\u001b[0m\u001b[0mplt\u001b[0m\u001b[0;34m.\u001b[0m\u001b[0msubplots\u001b[0m\u001b[0;34m(\u001b[0m\u001b[0;34m)\u001b[0m\u001b[0;34m\u001b[0m\u001b[0;34m\u001b[0m\u001b[0m\n\u001b[1;32m     23\u001b[0m \u001b[0;34m\u001b[0m\u001b[0m\n\u001b[0;32m---> 24\u001b[0;31m \u001b[0max\u001b[0m\u001b[0;34m.\u001b[0m\u001b[0mplot\u001b[0m\u001b[0;34m(\u001b[0m\u001b[0mTs\u001b[0m\u001b[0;34m,\u001b[0m\u001b[0mtau\u001b[0m\u001b[0;34m(\u001b[0m\u001b[0mTs\u001b[0m\u001b[0;34m)\u001b[0m\u001b[0;34m)\u001b[0m\u001b[0;34m\u001b[0m\u001b[0;34m\u001b[0m\u001b[0m\n\u001b[0m\u001b[1;32m     25\u001b[0m \u001b[0max\u001b[0m\u001b[0;34m.\u001b[0m\u001b[0mset_xlabel\u001b[0m\u001b[0;34m(\u001b[0m\u001b[0;34m\"Ts (K)\"\u001b[0m\u001b[0;34m)\u001b[0m\u001b[0;34m\u001b[0m\u001b[0;34m\u001b[0m\u001b[0m\n\u001b[1;32m     26\u001b[0m \u001b[0max\u001b[0m\u001b[0;34m.\u001b[0m\u001b[0mset_ylabel\u001b[0m\u001b[0;34m(\u001b[0m\u001b[0;34m\"Tau\"\u001b[0m\u001b[0;34m)\u001b[0m\u001b[0;34m\u001b[0m\u001b[0;34m\u001b[0m\u001b[0m\n",
      "\u001b[0;32m<ipython-input-1-3c87f5616d96>\u001b[0m in \u001b[0;36mtau\u001b[0;34m(T)\u001b[0m\n\u001b[1;32m      5\u001b[0m \u001b[0;32mdef\u001b[0m \u001b[0mtau\u001b[0m\u001b[0;34m(\u001b[0m\u001b[0mT\u001b[0m\u001b[0;34m)\u001b[0m\u001b[0;34m:\u001b[0m\u001b[0;34m\u001b[0m\u001b[0;34m\u001b[0m\u001b[0m\n\u001b[1;32m      6\u001b[0m     \u001b[0;34m\"\"\"optical depth as function of temperature\"\"\"\u001b[0m\u001b[0;34m\u001b[0m\u001b[0;34m\u001b[0m\u001b[0m\n\u001b[0;32m----> 7\u001b[0;31m     \u001b[0;32mreturn\u001b[0m \u001b[0;36m0.56\u001b[0m\u001b[0;34m+\u001b[0m\u001b[0;36m0.07\u001b[0m\u001b[0;34m*\u001b[0m\u001b[0mnp\u001b[0m\u001b[0;34m.\u001b[0m\u001b[0mexp\u001b[0m\u001b[0;34m(\u001b[0m\u001b[0;34m-\u001b[0m\u001b[0mLv\u001b[0m\u001b[0;34m*\u001b[0m\u001b[0;34m(\u001b[0m\u001b[0;36m1\u001b[0m\u001b[0;34m/\u001b[0m\u001b[0mT\u001b[0m\u001b[0;34m-\u001b[0m\u001b[0;36m1\u001b[0m\u001b[0;34m/\u001b[0m\u001b[0;36m288\u001b[0m\u001b[0;34m)\u001b[0m\u001b[0;34m/\u001b[0m\u001b[0mRv\u001b[0m\u001b[0;34m)\u001b[0m\u001b[0;34m\u001b[0m\u001b[0;34m\u001b[0m\u001b[0m\n\u001b[0m\u001b[1;32m      8\u001b[0m \u001b[0;34m\u001b[0m\u001b[0m\n\u001b[1;32m      9\u001b[0m \u001b[0;32mdef\u001b[0m \u001b[0memiss\u001b[0m\u001b[0;34m(\u001b[0m\u001b[0mtau\u001b[0m\u001b[0;34m)\u001b[0m\u001b[0;34m:\u001b[0m\u001b[0;34m\u001b[0m\u001b[0;34m\u001b[0m\u001b[0m\n",
      "\u001b[0;31mNameError\u001b[0m: name 'Lv' is not defined"
     ]
    },
    {
     "data": {
      "image/png": "[encoded data removed]",
      "text/plain": [
       "<Figure size 432x288 with 1 Axes>"
      ]
     },
     "metadata": {
      "filenames": {
       "image/png": "/Users/tompkins/TEACHING/DIPLOMA_LABS/_build/jupyter_execute/inprogress/EBM_0D_water_vapor_1_1.png"
      },
      "needs_background": "light"
     },
     "output_type": "display_data"
    }
   ],
   "source": [
    "import matplotlib.pyplot as plt\n",
    "import numpy as np\n",
    "\n",
    "\n",
    "def tau(T):\n",
    "    \"\"\"optical depth as function of temperature\"\"\"\n",
    "    return 0.56+0.07*np.exp(-Lv*(1/T-1/288)/Rv)\n",
    "\n",
    "def emiss(tau):\n",
    "    \"\"\"effective emissivity as function of optical depth\"\"\"\n",
    "    return 0.5+exp(-tau)/2.\n",
    "\n",
    "\n",
    "def cdTdt(S,T):\n",
    "    \"\"\"define the energy balance equation in a function\"\"\"\n",
    "    return S*(1-alpha(T))/4 - eps_e*sigma*np.power(T,4)\n",
    "\n",
    "# vector of surface temperatures\n",
    "Ts=np.arange(200,400,5)\n",
    "\n",
    "# vector of albedos\n",
    "fig,ax=plt.subplots()\n",
    "\n",
    "ax.plot(Ts,tau(Ts))\n",
    "ax.set_xlabel(\"Ts (K)\")\n",
    "ax.set_ylabel(\"Tau\")\n",
    "\n"
   ]
  },
  {
   "cell_type": "code",
   "execution_count": null,
   "metadata": {},
   "outputs": [],
   "source": [
    "import matplotlib.pyplot as plt\n",
    "import numpy as np\n",
    "\n",
    "Lv=2.5e6\n",
    "Rv=461.5\n",
    "sigma=5.67e-8\n",
    "\n",
    "def alfa(T):\n",
    "    albedo=0.45-0.25*np.tanh((T-272)/23)\n",
    "    return albedo \n",
    "\n",
    "def tau(T):\n",
    "    #tau=0.56+0.07*np.exp(-Lv/Rv*(1/T-1/288))\n",
    "    tau=0.63\n",
    "    return tau\n",
    "\n",
    "# define the solar constant array\n",
    "S0=np.arange(1000,2000,10)\n",
    "Ts=np.arange(200,400,5)\n",
    "\n",
    "T2d=np.tile(Ts,(len(S0),1)).transpose()\n",
    "S2d=np.tile(S0,(len(Ts),1))\n",
    "\n",
    "DTdt=S2d*(1-alfa(T2d))/4 - 0.69*sigma*T2d**4 #/(1+tau(T2d))\n",
    "\n",
    "fig,ax=plt.subplots()\n",
    "X=ax.contour(S0,T,DTdt,levels=np.arange(-200,400,25))\n",
    "ax.clabel(X,fontsize=10)\n",
    "ax.set_xlabel(\"S0 (Wm$^{-2}$)\")\n",
    "ax.set_ylabel(\"T (K)\")"
   ]
  }
 ],
 "metadata": {
  "kernelspec": {
   "display_name": "Python 3",
   "language": "python",
   "name": "python3"
  },
  "language_info": {
   "codemirror_mode": {
    "name": "ipython",
    "version": 3
   },
   "file_extension": ".py",
   "mimetype": "text/x-python",
   "name": "python",
   "nbconvert_exporter": "python",
   "pygments_lexer": "ipython3",
   "version": "3.9.2"
  }
 },
 "nbformat": 4,
 "nbformat_minor": 2
}