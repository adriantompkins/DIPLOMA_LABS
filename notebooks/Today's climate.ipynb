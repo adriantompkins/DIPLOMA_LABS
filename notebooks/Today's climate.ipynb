{
 "cells": [
  {
   "cell_type": "markdown",
   "id": "international-turkey",
   "metadata": {},
   "source": [
    "In this notebook we will look at various fields in ERA"
   ]
  },
  {
   "cell_type": "code",
   "execution_count": 2,
   "id": "verbal-naples",
   "metadata": {},
   "outputs": [],
   "source": [
    "import glob\n",
    "import cdsapi\n",
    "import matplotlib.pyplot as plt\n",
    "from netCDF4 import Dataset, num2date\n",
    "from cdo import *\n",
    "import numpy as np"
   ]
  },
  {
   "cell_type": "markdown",
   "id": "under-sperm",
   "metadata": {},
   "source": [
    "Now we will download a number of fields...  We could also loop overfields, but it is much more efficient to combine them into a single retrieve request. "
   ]
  },
  {
   "cell_type": "code",
   "execution_count": null,
   "id": "blessed-navigator",
   "metadata": {},
   "outputs": [
    {
     "name": "stderr",
     "output_type": "stream",
     "text": [
      "2021-11-25 14:58:53,032 INFO Welcome to the CDS\n",
      "2021-11-25 14:58:53,034 INFO Sending request to https://cds.climate.copernicus.eu/api/v2/resources/reanalysis-era5-single-levels-monthly-means\n",
      "2021-11-25 14:58:53,100 INFO Request is queued\n"
     ]
    }
   ],
   "source": [
    "import cdsapi\n",
    "\n",
    "c = cdsapi.Client()\n",
    "\n",
    "c.retrieve(\n",
    "    'reanalysis-era5-single-levels-monthly-means',\n",
    "    {\n",
    "        'format': 'netcdf',\n",
    "        'product_type': 'monthly_averaged_reanalysis',\n",
    "        'variable': [\n",
    "            '10m_u_component_of_wind', '10m_v_component_of_wind', '2m_dewpoint_temperature',\n",
    "            'high_cloud_cover', 'low_cloud_cover', 'medium_cloud_cover',\n",
    "            'sea_surface_temperature', 'surface_latent_heat_flux', 'surface_sensible_heat_flux',\n",
    "            'toa_incident_solar_radiation', 'top_net_solar_radiation', 'top_net_solar_radiation_clear_sky',\n",
    "            'top_net_thermal_radiation', 'top_net_thermal_radiation_clear_sky', 'total_cloud_cover',\n",
    "            'total_precipitation',\n",
    "        ],\n",
    "        'year': '2020',\n",
    "        'month': [\n",
    "            '01', '02', '03',\n",
    "            '04', '05', '06',\n",
    "            '07', '08', '09',\n",
    "            '10', '11', '12',\n",
    "        ],\n",
    "        'time': '00:00',\n",
    "    },\n",
    "    'ERA5.nc')"
   ]
  },
  {
   "cell_type": "markdown",
   "id": "resident-occasion",
   "metadata": {},
   "source": [
    "let's open up the file and take a look at the output...  "
   ]
  },
  {
   "cell_type": "code",
   "execution_count": null,
   "id": "textile-terrace",
   "metadata": {},
   "outputs": [],
   "source": [
    "#ds=Dataset('ERA5.nc')\n",
    "#ds.variables"
   ]
  },
  {
   "cell_type": "markdown",
   "id": "brave-roman",
   "metadata": {},
   "source": [
    "The file has data for one year, thus 12 timesteps.  Let's take the year average.  Now we could do this with xarray for example, or indeed numpy functions, but let's see how we can use cdo from within python"
   ]
  },
  {
   "cell_type": "code",
   "execution_count": null,
   "id": "australian-abuse",
   "metadata": {},
   "outputs": [],
   "source": [
    "# set cdo to an incidence of Cdo(), you don't need to do this, but cdo.func is neater than Cdo().func\n",
    "cdo = Cdo()\n",
    "cdo.yearmean(input=cdo.mergetime('download.nc',output='ERA5_av.nc',options=\"-O \")\n",
    "\n",
    "             # now open the files\n",
    "            \n",
    "             \n",
    "             "
   ]
  },
  {
   "cell_type": "code",
   "execution_count": null,
   "id": "associate-serve",
   "metadata": {},
   "outputs": [],
   "source": [
    "ds=Dataset('./Downloads/test.nc')\n",
    "ds.variables\n",
    " "
   ]
  },
  {
   "cell_type": "code",
   "execution_count": null,
   "id": "vocal-palace",
   "metadata": {},
   "outputs": [],
   "source": [
    "def make_plot(fld,title)\n",
    "    fig1, ax1 = plt.subplots(figsize=(8,4))\n",
    "    # Here we are masking the data to exclude points where the land fraction is zero (water only)\n",
    "    cax1 = ax1.contourf( height.lon, height.lat, \n",
    "                    height.where(topo.LANDFRAC>0), levels=lev)\n",
    "    ax1.set_title('Topography (km) and land-sea mask in CESM')\n",
    "    ax1.set_xlabel('Longitude')\n",
    "    ax1.set_ylabel('Latitude')\n",
    "    cbar1 = fig1.colorbar(cax1)"
   ]
  }
 ],
 "metadata": {
  "kernelspec": {
   "display_name": "Python 3",
   "language": "python",
   "name": "python3"
  },
  "language_info": {
   "codemirror_mode": {
    "name": "ipython",
    "version": 3
   },
   "file_extension": ".py",
   "mimetype": "text/x-python",
   "name": "python",
   "nbconvert_exporter": "python",
   "pygments_lexer": "ipython3",
   "version": "3.9.4"
  }
 },
 "nbformat": 4,
 "nbformat_minor": 5
}
