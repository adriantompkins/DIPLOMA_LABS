{
 "cells": [
  {
   "attachments": {
    "atmos_radn_greenhouse.png": {
     "image/png": "[encoded data removed]"
    }
   },
   "cell_type": "markdown",
   "metadata": {
    "scrolled": true
   },
   "source": [
    "# Energy Balance Model\n",
    "\n",
    "## Introduction\n",
    "\n",
    "In this notebook we are going to derive the greenhouse 1-slab energy balance model and play with emissivity of the slab to see the impact on the mean and atmospheric temperature.\n",
    "\n",
    "If you recall from class, we treat the earth atmosphere system as **black-body** earth at temperature $T_s$ with a grey atmospheric slab of temperature $T_a$:\n",
    "\n",
    "![atmos_radn_greenhouse.png](attachment:atmos_radn_greenhouse.png)\n",
    "\n",
    "The key thing to remember is that emissivity is **wavelength** dependent.  Gases like water vapour and CO$_2$ interact with radiation at various bands in the longwave (and also the short wave in the case of water vapour).  However, in this simple model we aggregate the radiation into two bands, one for the short wave and one for the long wave.  \n",
    "\n",
    "We neglect the small impact of water vapour and assume that in the short wave the atmosphere is transparent, while in the long wave the emissivity $\\epsilon$ is 0.6, that is, 60% of the infrared radiation is absorbed by the atmosphere. \n",
    "\n",
    "We can now write the equations for the top of atmosphere, slab and surface:\n",
    "\n",
    "At the top of the atmosphere, the incoming solar radiation $\\frac{S_0}{4}(1-\\alpha_p)$ is balanced by black body emission from the Earth $\\sigma T_s^4 $, of which $1-\\epsilon$ passes through the atmosphere (recall the Beer-Lambert Law) and also the emission from the atmosphere $\\epsilon \\sigma T_a^4$:\n",
    "\n",
    "### Top of Atmosphere (eqn1)\n",
    "\n",
    "\\begin{equation}\n",
    "\\frac{S_0}{4}(1-\\alpha_p) = \\sigma T_s^4 (1- \\epsilon ) + \\epsilon \\sigma T_a^4\n",
    "\\label{eqn:ebmtoa}\n",
    "\\end{equation}\n",
    "\n",
    "\n",
    "Assuming we can specify the solar constant $S_0$, the albedo $\\alpha_p$ and the atmospheric emissivity $\\epsilon$ as external parameters, this single equation has two unknowns $T_a$ and $T_s$, the temperatures we are trying to find. So we also need a second equation for the balance at the surface:\n",
    "\n",
    "### Surface (eqn2)\n",
    "\\begin{equation}\n",
    "\\epsilon \\sigma T_a^4 + \\frac{S_0}{4}(1-\\alpha_p) = \\sigma T_s^4 \n",
    "\\label{eqn:ebmsurf}\n",
    "\\end{equation}\n",
    "\n",
    "See if you can derive this (refer to the class notes).\n",
    "\n",
    "Actually, we can also write a third equation for the balance of the slab itself, this overspecifies the problem as we only need 2 of the 3 equations to solve for $T_a$ and $T_s$, but the resulting equation is nice and simple due to the fact that the atmosphere is transparent to solar radiation, thus we simply balance absorption with emission:\n",
    "\n",
    "### Atmospheric Slab (eqn3)\n",
    "\n",
    "\\begin{equation}\n",
    "\\epsilon \\sigma T_s^4 = 2 \\epsilon \\sigma T_a^4\n",
    "\\label{eqn:ebmatmos}\n",
    "\\end{equation}\n",
    "\n",
    "Note the factor 2 on the right hand side, this is important!  We recall that the radiance in Stefan-Boltzmann's Law is integrated over the solid angle for a **hemisphere**.  The atmosphere doesn't just emit outwards to space, but also in the downward direction back towards Earth, thus over **2** hemispheres! (Otherwise the atmosphere temperature would equal that of the surface, think about it!) \n",
    "\n",
    "Ok, got that?  So let's play with a simple model... "
   ]
  },
  {
   "cell_type": "markdown",
   "metadata": {},
   "source": [
    "## Solving the slab equations\n",
    "\n",
    "From eqn 3 above we see that \n",
    "\n",
    "\\begin{equation}\n",
    "T_a = \\frac{T_s}{\\sqrt[4]{2}}\n",
    "\\end{equation}\n",
    "\n",
    "which can be substituted into either (1) or (2) [exercise show] to give:\n",
    "\n",
    "\\begin{equation}\n",
    "T_s = \\sqrt[4]{\\frac{S_0(1-\\alpha_p)}{2 \\sigma (2-\\epsilon)}}\n",
    "\\end{equation}\n",
    "\n",
    "Let's look at this with a simple python code..."
   ]
  },
  {
   "cell_type": "code",
   "execution_count": 1,
   "metadata": {
    "scrolled": true
   },
   "outputs": [
    {
     "name": "stdout",
     "output_type": "stream",
     "text": [
      "Surface Temperature= 289.7384127570699  Kelvin\n",
      "Atmos Temperature= 243.6399926487212  Kelvin\n"
     ]
    }
   ],
   "source": [
    "import numpy as np\n",
    "import pandas as pd\n",
    "\n",
    "# define the external parameters\n",
    "eps=0.8   # atmospheric emissivity in infrared\n",
    "alb=0.3   # albedo\n",
    "S0=1370   # solar constant W/m2\n",
    "sigma=5.67e-8 # SB constant\n",
    "\n",
    "# surface temperature\n",
    "eqn=S0*(1-alb)/(2*sigma*(2-eps))\n",
    "Ts=np.power(eqn,0.25)\n",
    "\n",
    "# atmospheric temperature\n",
    "Ta=Ts/np.power(2,0.25)\n",
    "\n",
    "\n",
    "print(\"Surface Temperature=\",Ts,\" Kelvin\")\n",
    "print(\"Atmos Temperature=\",Ta,\" Kelvin\")\n"
   ]
  },
  {
   "cell_type": "markdown",
   "metadata": {},
   "source": [
    "## Questions\n",
    "\n",
    "what happens when you set $\\epsilon$=0 ?  What is the atmospheric temperature in this case? Does it make sense (refer to equation 3 above!)\n",
    "\n",
    "now we make graph of temperature as a function of $\\epsilon$ and $\\alpha$\n",
    "\n"
   ]
  },
  {
   "cell_type": "code",
   "execution_count": 28,
   "metadata": {},
   "outputs": [
    {
     "data": {
      "text/plain": [
       "<matplotlib.legend.Legend at 0x7f69ffa0aa90>"
      ]
     },
     "execution_count": 28,
     "metadata": {},
     "output_type": "execute_result"
    },
    {
     "data": {
      "image/png": "[encoded data removed]",
      "text/plain": [
       "<Figure size 432x288 with 2 Axes>"
      ]
     },
     "metadata": {},
     "output_type": "display_data"
    }
   ],
   "source": [
    "import numpy as np\n",
    "import matplotlib.pyplot as plt\n",
    "\n",
    "def calcT(alb,eps):\n",
    "    # surface temperature\n",
    "    eqn=S0*(1-alb)/(2*sigma*(2-eps))\n",
    "    Ts=np.power(eqn,0.25)\n",
    "\n",
    "    # atmospheric temperature\n",
    "    Ta=Ts/np.power(2,0.25)\n",
    "    return(Ts,Ta)\n",
    "    \n",
    "# define the external parameters\n",
    "S0=1370   # solar constant W/m2\n",
    "sigma=5.67e-8 # SB constant\n",
    "alb0=0.3 # default value when other param is varied\n",
    "eps0=0.6 # default value when other param is varied\n",
    "\n",
    "global S0,sigma \n",
    "\n",
    "# let's make emissivity an array\n",
    "leps=np.arange(0.2,0.8,0.05) # min,max,inc\n",
    "lalb=np.arange(0.1,0.5,0.05) \n",
    "\n",
    "# loop over emissivity\n",
    "Tse=np.zeros(len(leps))\n",
    "Tae=np.zeros(len(leps))\n",
    "for i,eps in enumerate(leps):\n",
    "    Tse[i],Tae[i]=calcT(alb0,eps)\n",
    "    \n",
    "# loop over albedo \n",
    "Tsa=np.zeros(len(lalb))\n",
    "Taa=np.zeros(len(lalb))\n",
    "for i,alb in enumerate(lalb):\n",
    "    Tsa[i],Taa[i]=calcT(alb,eps0)\n",
    " \n",
    "fig,ax=plt.subplots(1,2,sharey=True)\n",
    "ax[0].plot(leps,Tse)\n",
    "ax[0].plot(leps,Tae,marker='o', markerfacecolor='blue', markersize=6, )\n",
    "ax[0].set_xlabel(\"Emissivity\")\n",
    "ax[0].set_ylim(200,300)\n",
    "ax[0].set_ylabel(\"Surface Temperature (K)\")\n",
    "ax[0].legend(['Ts','Ta'])\n",
    "\n",
    "ax[1].plot(lalb,Tsa)\n",
    "ax[1].set_xlabel(\"Albedo\")\n",
    "ax[1].plot(lalb,Taa,marker='o', markerfacecolor='blue', markersize=6, )\n",
    "ax[1].legend(['Ts','Ta'])\n",
    "\n",
    "\n",
    "\n",
    "\n"
   ]
  },
  {
   "cell_type": "markdown",
   "metadata": {},
   "source": [
    "## Two slab model \n",
    "troposphere and stratosphere, coming soon to a notebook near you!\n"
   ]
  },
  {
   "cell_type": "code",
   "execution_count": null,
   "metadata": {},
   "outputs": [],
   "source": []
  }
 ],
 "metadata": {
  "kernelspec": {
   "display_name": "Python 3 (ipykernel)",
   "language": "python",
   "name": "python3"
  },
  "language_info": {
   "codemirror_mode": {
    "name": "ipython",
    "version": 3
   },
   "file_extension": ".py",
   "mimetype": "text/x-python",
   "name": "python",
   "nbconvert_exporter": "python",
   "pygments_lexer": "ipython3",
   "version": "3.9.9"
  }
 },
 "nbformat": 4,
 "nbformat_minor": 2
}
